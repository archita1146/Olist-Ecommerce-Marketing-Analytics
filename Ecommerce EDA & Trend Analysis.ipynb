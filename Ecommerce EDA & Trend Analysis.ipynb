{
 "cells": [
  {
   "cell_type": "markdown",
   "metadata": {},
   "source": [
    "### Brazilian E-commerce Dataset by Olist\n",
    "This is a Brazilian ecommerce public dataset of orders made at Olist. The dataset has information of 100k orders from 2016 to 2018 made in Brazil. Its features allows viewing an order from multiple dimensions: from order status, price, payment and freight performance to customer location, product attributes and finally reviews written by customers. It also has a geolocation dataset that relates Brazilian zip codes to lat/lng coordinates.\n",
    "\n",
    "The objective of this notebook is to propose an analytical view of e-commerce relationship in Brazil. For this we will first go through an exploratory data analysis using graphical tools to create self explanatory plots for better understanding what is behind braziian online purchasing. "
   ]
  },
  {
   "cell_type": "code",
   "execution_count": 81,
   "metadata": {},
   "outputs": [],
   "source": [
    "# Standard libs\n",
    "import pandas as pd\n",
    "import numpy as np\n",
    "import matplotlib.pyplot as plt\n",
    "import seaborn as sns\n",
    "%matplotlib inline\n",
    "from matplotlib.gridspec import GridSpec\n",
    "pd.set_option('display.max_columns', 100)\n",
    "import plotly.offline as py\n",
    "import plotly.express as px\n",
    "import plotly.graph_objs as go\n",
    "import json\n",
    "from scipy.stats import skew,kurtosis"
   ]
  },
  {
   "cell_type": "code",
   "execution_count": 42,
   "metadata": {},
   "outputs": [],
   "source": [
    "# Reading all the files\n",
    "raw_path = './Dataset/brazilian-ecommerce/'\n",
    "olist_customer = pd.read_csv(raw_path + 'olist_customers_dataset.csv')\n",
    "olist_geolocation = pd.read_csv(raw_path + 'olist_geolocation_dataset.csv')\n",
    "olist_orders = pd.read_csv(raw_path + 'olist_orders_dataset.csv')\n",
    "olist_order_items = pd.read_csv(raw_path + 'olist_order_items_dataset.csv')\n",
    "olist_order_payments = pd.read_csv(raw_path + 'olist_order_payments_dataset.csv')\n",
    "olist_order_reviews = pd.read_csv(raw_path + 'olist_order_reviews_dataset.csv')\n",
    "olist_products = pd.read_csv(raw_path + 'olist_products_dataset.csv')\n",
    "olist_sellers = pd.read_csv(raw_path + 'olist_sellers_dataset.csv')\n",
    "olist_product_translation = pd.read_csv(raw_path + 'product_category_name_translation.csv')"
   ]
  },
  {
   "cell_type": "code",
   "execution_count": 43,
   "metadata": {},
   "outputs": [
    {
     "data": {
      "text/html": [
       "<div>\n",
       "<style scoped>\n",
       "    .dataframe tbody tr th:only-of-type {\n",
       "        vertical-align: middle;\n",
       "    }\n",
       "\n",
       "    .dataframe tbody tr th {\n",
       "        vertical-align: top;\n",
       "    }\n",
       "\n",
       "    .dataframe thead th {\n",
       "        text-align: right;\n",
       "    }\n",
       "</style>\n",
       "<table border=\"1\" class=\"dataframe\">\n",
       "  <thead>\n",
       "    <tr style=\"text-align: right;\">\n",
       "      <th></th>\n",
       "      <th>customer_id</th>\n",
       "      <th>customer_unique_id</th>\n",
       "      <th>customer_zip_code_prefix</th>\n",
       "      <th>customer_city</th>\n",
       "      <th>customer_state</th>\n",
       "    </tr>\n",
       "  </thead>\n",
       "  <tbody>\n",
       "    <tr>\n",
       "      <th>0</th>\n",
       "      <td>06b8999e2fba1a1fbc88172c00ba8bc7</td>\n",
       "      <td>861eff4711a542e4b93843c6dd7febb0</td>\n",
       "      <td>14409</td>\n",
       "      <td>franca</td>\n",
       "      <td>SP</td>\n",
       "    </tr>\n",
       "    <tr>\n",
       "      <th>1</th>\n",
       "      <td>18955e83d337fd6b2def6b18a428ac77</td>\n",
       "      <td>290c77bc529b7ac935b93aa66c333dc3</td>\n",
       "      <td>9790</td>\n",
       "      <td>sao bernardo do campo</td>\n",
       "      <td>SP</td>\n",
       "    </tr>\n",
       "    <tr>\n",
       "      <th>2</th>\n",
       "      <td>4e7b3e00288586ebd08712fdd0374a03</td>\n",
       "      <td>060e732b5b29e8181a18229c7b0b2b5e</td>\n",
       "      <td>1151</td>\n",
       "      <td>sao paulo</td>\n",
       "      <td>SP</td>\n",
       "    </tr>\n",
       "    <tr>\n",
       "      <th>3</th>\n",
       "      <td>b2b6027bc5c5109e529d4dc6358b12c3</td>\n",
       "      <td>259dac757896d24d7702b9acbbff3f3c</td>\n",
       "      <td>8775</td>\n",
       "      <td>mogi das cruzes</td>\n",
       "      <td>SP</td>\n",
       "    </tr>\n",
       "    <tr>\n",
       "      <th>4</th>\n",
       "      <td>4f2d8ab171c80ec8364f7c12e35b23ad</td>\n",
       "      <td>345ecd01c38d18a9036ed96c73b8d066</td>\n",
       "      <td>13056</td>\n",
       "      <td>campinas</td>\n",
       "      <td>SP</td>\n",
       "    </tr>\n",
       "  </tbody>\n",
       "</table>\n",
       "</div>"
      ],
      "text/plain": [
       "                        customer_id                customer_unique_id  \\\n",
       "0  06b8999e2fba1a1fbc88172c00ba8bc7  861eff4711a542e4b93843c6dd7febb0   \n",
       "1  18955e83d337fd6b2def6b18a428ac77  290c77bc529b7ac935b93aa66c333dc3   \n",
       "2  4e7b3e00288586ebd08712fdd0374a03  060e732b5b29e8181a18229c7b0b2b5e   \n",
       "3  b2b6027bc5c5109e529d4dc6358b12c3  259dac757896d24d7702b9acbbff3f3c   \n",
       "4  4f2d8ab171c80ec8364f7c12e35b23ad  345ecd01c38d18a9036ed96c73b8d066   \n",
       "\n",
       "   customer_zip_code_prefix          customer_city customer_state  \n",
       "0                     14409                 franca             SP  \n",
       "1                      9790  sao bernardo do campo             SP  \n",
       "2                      1151              sao paulo             SP  \n",
       "3                      8775        mogi das cruzes             SP  \n",
       "4                     13056               campinas             SP  "
      ]
     },
     "execution_count": 43,
     "metadata": {},
     "output_type": "execute_result"
    }
   ],
   "source": [
    "olist_customer.head()"
   ]
  },
  {
   "cell_type": "code",
   "execution_count": 44,
   "metadata": {},
   "outputs": [],
   "source": [
    "datasets = [olist_customer, olist_geolocation, olist_orders, olist_order_items, olist_order_payments, \n",
    "            olist_order_reviews, olist_products, olist_sellers]\n",
    "names = ['olist_customer', 'olist_geolocation', 'olist_orders', 'olist_order_items', 'olist_order_payments', \n",
    "            'olist_order_reviews', 'olist_products', 'olist_sellers']"
   ]
  },
  {
   "cell_type": "code",
   "execution_count": 45,
   "metadata": {},
   "outputs": [
    {
     "data": {
      "text/html": [
       "<style  type=\"text/css\" >\n",
       "    #T_f9d3a580_64fb_11eb_88f9_48bf6bd434barow0_col1 {\n",
       "            background-color:  #f1ebf4;\n",
       "            color:  #000000;\n",
       "        }    #T_f9d3a580_64fb_11eb_88f9_48bf6bd434barow0_col2 {\n",
       "            background-color:  #dbdaeb;\n",
       "            color:  #000000;\n",
       "        }    #T_f9d3a580_64fb_11eb_88f9_48bf6bd434barow0_col3 {\n",
       "            background-color:  #fff7fb;\n",
       "            color:  #000000;\n",
       "        }    #T_f9d3a580_64fb_11eb_88f9_48bf6bd434barow0_col4 {\n",
       "            background-color:  #fff7fb;\n",
       "            color:  #000000;\n",
       "        }    #T_f9d3a580_64fb_11eb_88f9_48bf6bd434barow1_col1 {\n",
       "            background-color:  #023858;\n",
       "            color:  #f1f1f1;\n",
       "        }    #T_f9d3a580_64fb_11eb_88f9_48bf6bd434barow1_col2 {\n",
       "            background-color:  #dbdaeb;\n",
       "            color:  #000000;\n",
       "        }    #T_f9d3a580_64fb_11eb_88f9_48bf6bd434barow1_col3 {\n",
       "            background-color:  #fff7fb;\n",
       "            color:  #000000;\n",
       "        }    #T_f9d3a580_64fb_11eb_88f9_48bf6bd434barow1_col4 {\n",
       "            background-color:  #fff7fb;\n",
       "            color:  #000000;\n",
       "        }    #T_f9d3a580_64fb_11eb_88f9_48bf6bd434barow2_col1 {\n",
       "            background-color:  #f1ebf4;\n",
       "            color:  #000000;\n",
       "        }    #T_f9d3a580_64fb_11eb_88f9_48bf6bd434barow2_col2 {\n",
       "            background-color:  #0567a2;\n",
       "            color:  #f1f1f1;\n",
       "        }    #T_f9d3a580_64fb_11eb_88f9_48bf6bd434barow2_col3 {\n",
       "            background-color:  #faf3f9;\n",
       "            color:  #000000;\n",
       "        }    #T_f9d3a580_64fb_11eb_88f9_48bf6bd434barow2_col4 {\n",
       "            background-color:  #a5bddb;\n",
       "            color:  #000000;\n",
       "        }    #T_f9d3a580_64fb_11eb_88f9_48bf6bd434barow3_col1 {\n",
       "            background-color:  #eee9f3;\n",
       "            color:  #000000;\n",
       "        }    #T_f9d3a580_64fb_11eb_88f9_48bf6bd434barow3_col2 {\n",
       "            background-color:  #4295c3;\n",
       "            color:  #000000;\n",
       "        }    #T_f9d3a580_64fb_11eb_88f9_48bf6bd434barow3_col3 {\n",
       "            background-color:  #fff7fb;\n",
       "            color:  #000000;\n",
       "        }    #T_f9d3a580_64fb_11eb_88f9_48bf6bd434barow3_col4 {\n",
       "            background-color:  #fff7fb;\n",
       "            color:  #000000;\n",
       "        }    #T_f9d3a580_64fb_11eb_88f9_48bf6bd434barow4_col1 {\n",
       "            background-color:  #f0eaf4;\n",
       "            color:  #000000;\n",
       "        }    #T_f9d3a580_64fb_11eb_88f9_48bf6bd434barow4_col2 {\n",
       "            background-color:  #dbdaeb;\n",
       "            color:  #000000;\n",
       "        }    #T_f9d3a580_64fb_11eb_88f9_48bf6bd434barow4_col3 {\n",
       "            background-color:  #fff7fb;\n",
       "            color:  #000000;\n",
       "        }    #T_f9d3a580_64fb_11eb_88f9_48bf6bd434barow4_col4 {\n",
       "            background-color:  #fff7fb;\n",
       "            color:  #000000;\n",
       "        }    #T_f9d3a580_64fb_11eb_88f9_48bf6bd434barow5_col1 {\n",
       "            background-color:  #f1ebf4;\n",
       "            color:  #000000;\n",
       "        }    #T_f9d3a580_64fb_11eb_88f9_48bf6bd434barow5_col2 {\n",
       "            background-color:  #4295c3;\n",
       "            color:  #000000;\n",
       "        }    #T_f9d3a580_64fb_11eb_88f9_48bf6bd434barow5_col3 {\n",
       "            background-color:  #023858;\n",
       "            color:  #f1f1f1;\n",
       "        }    #T_f9d3a580_64fb_11eb_88f9_48bf6bd434barow5_col4 {\n",
       "            background-color:  #d0d1e6;\n",
       "            color:  #000000;\n",
       "        }    #T_f9d3a580_64fb_11eb_88f9_48bf6bd434barow6_col1 {\n",
       "            background-color:  #fbf3f9;\n",
       "            color:  #000000;\n",
       "        }    #T_f9d3a580_64fb_11eb_88f9_48bf6bd434barow6_col2 {\n",
       "            background-color:  #023858;\n",
       "            color:  #f1f1f1;\n",
       "        }    #T_f9d3a580_64fb_11eb_88f9_48bf6bd434barow6_col3 {\n",
       "            background-color:  #fdf5fa;\n",
       "            color:  #000000;\n",
       "        }    #T_f9d3a580_64fb_11eb_88f9_48bf6bd434barow6_col4 {\n",
       "            background-color:  #023858;\n",
       "            color:  #f1f1f1;\n",
       "        }    #T_f9d3a580_64fb_11eb_88f9_48bf6bd434barow7_col1 {\n",
       "            background-color:  #fff7fb;\n",
       "            color:  #000000;\n",
       "        }    #T_f9d3a580_64fb_11eb_88f9_48bf6bd434barow7_col2 {\n",
       "            background-color:  #fff7fb;\n",
       "            color:  #000000;\n",
       "        }    #T_f9d3a580_64fb_11eb_88f9_48bf6bd434barow7_col3 {\n",
       "            background-color:  #fff7fb;\n",
       "            color:  #000000;\n",
       "        }    #T_f9d3a580_64fb_11eb_88f9_48bf6bd434barow7_col4 {\n",
       "            background-color:  #fff7fb;\n",
       "            color:  #000000;\n",
       "        }</style><table id=\"T_f9d3a580_64fb_11eb_88f9_48bf6bd434ba\" ><thead>    <tr>        <th class=\"blank level0\" ></th>        <th class=\"col_heading level0 col0\" >dataset</th>        <th class=\"col_heading level0 col1\" >n_rows</th>        <th class=\"col_heading level0 col2\" >n_cols</th>        <th class=\"col_heading level0 col3\" >null_amount</th>        <th class=\"col_heading level0 col4\" >null_columns_qty</th>        <th class=\"col_heading level0 col5\" >null_columns_names</th>    </tr></thead><tbody>\n",
       "                <tr>\n",
       "                        <th id=\"T_f9d3a580_64fb_11eb_88f9_48bf6bd434balevel0_row0\" class=\"row_heading level0 row0\" >0</th>\n",
       "                        <td id=\"T_f9d3a580_64fb_11eb_88f9_48bf6bd434barow0_col0\" class=\"data row0 col0\" >olist_customer</td>\n",
       "                        <td id=\"T_f9d3a580_64fb_11eb_88f9_48bf6bd434barow0_col1\" class=\"data row0 col1\" >99441</td>\n",
       "                        <td id=\"T_f9d3a580_64fb_11eb_88f9_48bf6bd434barow0_col2\" class=\"data row0 col2\" >5</td>\n",
       "                        <td id=\"T_f9d3a580_64fb_11eb_88f9_48bf6bd434barow0_col3\" class=\"data row0 col3\" >0</td>\n",
       "                        <td id=\"T_f9d3a580_64fb_11eb_88f9_48bf6bd434barow0_col4\" class=\"data row0 col4\" >0</td>\n",
       "                        <td id=\"T_f9d3a580_64fb_11eb_88f9_48bf6bd434barow0_col5\" class=\"data row0 col5\" ></td>\n",
       "            </tr>\n",
       "            <tr>\n",
       "                        <th id=\"T_f9d3a580_64fb_11eb_88f9_48bf6bd434balevel0_row1\" class=\"row_heading level0 row1\" >1</th>\n",
       "                        <td id=\"T_f9d3a580_64fb_11eb_88f9_48bf6bd434barow1_col0\" class=\"data row1 col0\" >olist_geolocation</td>\n",
       "                        <td id=\"T_f9d3a580_64fb_11eb_88f9_48bf6bd434barow1_col1\" class=\"data row1 col1\" >1000163</td>\n",
       "                        <td id=\"T_f9d3a580_64fb_11eb_88f9_48bf6bd434barow1_col2\" class=\"data row1 col2\" >5</td>\n",
       "                        <td id=\"T_f9d3a580_64fb_11eb_88f9_48bf6bd434barow1_col3\" class=\"data row1 col3\" >0</td>\n",
       "                        <td id=\"T_f9d3a580_64fb_11eb_88f9_48bf6bd434barow1_col4\" class=\"data row1 col4\" >0</td>\n",
       "                        <td id=\"T_f9d3a580_64fb_11eb_88f9_48bf6bd434barow1_col5\" class=\"data row1 col5\" ></td>\n",
       "            </tr>\n",
       "            <tr>\n",
       "                        <th id=\"T_f9d3a580_64fb_11eb_88f9_48bf6bd434balevel0_row2\" class=\"row_heading level0 row2\" >2</th>\n",
       "                        <td id=\"T_f9d3a580_64fb_11eb_88f9_48bf6bd434barow2_col0\" class=\"data row2 col0\" >olist_orders</td>\n",
       "                        <td id=\"T_f9d3a580_64fb_11eb_88f9_48bf6bd434barow2_col1\" class=\"data row2 col1\" >99441</td>\n",
       "                        <td id=\"T_f9d3a580_64fb_11eb_88f9_48bf6bd434barow2_col2\" class=\"data row2 col2\" >8</td>\n",
       "                        <td id=\"T_f9d3a580_64fb_11eb_88f9_48bf6bd434barow2_col3\" class=\"data row2 col3\" >4908</td>\n",
       "                        <td id=\"T_f9d3a580_64fb_11eb_88f9_48bf6bd434barow2_col4\" class=\"data row2 col4\" >3</td>\n",
       "                        <td id=\"T_f9d3a580_64fb_11eb_88f9_48bf6bd434barow2_col5\" class=\"data row2 col5\" >order_approved_at, order_delivered_carrier_date, order_delivered_customer_date</td>\n",
       "            </tr>\n",
       "            <tr>\n",
       "                        <th id=\"T_f9d3a580_64fb_11eb_88f9_48bf6bd434balevel0_row3\" class=\"row_heading level0 row3\" >3</th>\n",
       "                        <td id=\"T_f9d3a580_64fb_11eb_88f9_48bf6bd434barow3_col0\" class=\"data row3 col0\" >olist_order_items</td>\n",
       "                        <td id=\"T_f9d3a580_64fb_11eb_88f9_48bf6bd434barow3_col1\" class=\"data row3 col1\" >112650</td>\n",
       "                        <td id=\"T_f9d3a580_64fb_11eb_88f9_48bf6bd434barow3_col2\" class=\"data row3 col2\" >7</td>\n",
       "                        <td id=\"T_f9d3a580_64fb_11eb_88f9_48bf6bd434barow3_col3\" class=\"data row3 col3\" >0</td>\n",
       "                        <td id=\"T_f9d3a580_64fb_11eb_88f9_48bf6bd434barow3_col4\" class=\"data row3 col4\" >0</td>\n",
       "                        <td id=\"T_f9d3a580_64fb_11eb_88f9_48bf6bd434barow3_col5\" class=\"data row3 col5\" ></td>\n",
       "            </tr>\n",
       "            <tr>\n",
       "                        <th id=\"T_f9d3a580_64fb_11eb_88f9_48bf6bd434balevel0_row4\" class=\"row_heading level0 row4\" >4</th>\n",
       "                        <td id=\"T_f9d3a580_64fb_11eb_88f9_48bf6bd434barow4_col0\" class=\"data row4 col0\" >olist_order_payments</td>\n",
       "                        <td id=\"T_f9d3a580_64fb_11eb_88f9_48bf6bd434barow4_col1\" class=\"data row4 col1\" >103886</td>\n",
       "                        <td id=\"T_f9d3a580_64fb_11eb_88f9_48bf6bd434barow4_col2\" class=\"data row4 col2\" >5</td>\n",
       "                        <td id=\"T_f9d3a580_64fb_11eb_88f9_48bf6bd434barow4_col3\" class=\"data row4 col3\" >0</td>\n",
       "                        <td id=\"T_f9d3a580_64fb_11eb_88f9_48bf6bd434barow4_col4\" class=\"data row4 col4\" >0</td>\n",
       "                        <td id=\"T_f9d3a580_64fb_11eb_88f9_48bf6bd434barow4_col5\" class=\"data row4 col5\" ></td>\n",
       "            </tr>\n",
       "            <tr>\n",
       "                        <th id=\"T_f9d3a580_64fb_11eb_88f9_48bf6bd434balevel0_row5\" class=\"row_heading level0 row5\" >5</th>\n",
       "                        <td id=\"T_f9d3a580_64fb_11eb_88f9_48bf6bd434barow5_col0\" class=\"data row5 col0\" >olist_order_reviews</td>\n",
       "                        <td id=\"T_f9d3a580_64fb_11eb_88f9_48bf6bd434barow5_col1\" class=\"data row5 col1\" >100000</td>\n",
       "                        <td id=\"T_f9d3a580_64fb_11eb_88f9_48bf6bd434barow5_col2\" class=\"data row5 col2\" >7</td>\n",
       "                        <td id=\"T_f9d3a580_64fb_11eb_88f9_48bf6bd434barow5_col3\" class=\"data row5 col3\" >146532</td>\n",
       "                        <td id=\"T_f9d3a580_64fb_11eb_88f9_48bf6bd434barow5_col4\" class=\"data row5 col4\" >2</td>\n",
       "                        <td id=\"T_f9d3a580_64fb_11eb_88f9_48bf6bd434barow5_col5\" class=\"data row5 col5\" >review_comment_title, review_comment_message</td>\n",
       "            </tr>\n",
       "            <tr>\n",
       "                        <th id=\"T_f9d3a580_64fb_11eb_88f9_48bf6bd434balevel0_row6\" class=\"row_heading level0 row6\" >6</th>\n",
       "                        <td id=\"T_f9d3a580_64fb_11eb_88f9_48bf6bd434barow6_col0\" class=\"data row6 col0\" >olist_products</td>\n",
       "                        <td id=\"T_f9d3a580_64fb_11eb_88f9_48bf6bd434barow6_col1\" class=\"data row6 col1\" >32951</td>\n",
       "                        <td id=\"T_f9d3a580_64fb_11eb_88f9_48bf6bd434barow6_col2\" class=\"data row6 col2\" >9</td>\n",
       "                        <td id=\"T_f9d3a580_64fb_11eb_88f9_48bf6bd434barow6_col3\" class=\"data row6 col3\" >2448</td>\n",
       "                        <td id=\"T_f9d3a580_64fb_11eb_88f9_48bf6bd434barow6_col4\" class=\"data row6 col4\" >8</td>\n",
       "                        <td id=\"T_f9d3a580_64fb_11eb_88f9_48bf6bd434barow6_col5\" class=\"data row6 col5\" >product_category_name, product_name_lenght, product_description_lenght, product_photos_qty, product_weight_g, product_length_cm, product_height_cm, product_width_cm</td>\n",
       "            </tr>\n",
       "            <tr>\n",
       "                        <th id=\"T_f9d3a580_64fb_11eb_88f9_48bf6bd434balevel0_row7\" class=\"row_heading level0 row7\" >7</th>\n",
       "                        <td id=\"T_f9d3a580_64fb_11eb_88f9_48bf6bd434barow7_col0\" class=\"data row7 col0\" >olist_sellers</td>\n",
       "                        <td id=\"T_f9d3a580_64fb_11eb_88f9_48bf6bd434barow7_col1\" class=\"data row7 col1\" >3095</td>\n",
       "                        <td id=\"T_f9d3a580_64fb_11eb_88f9_48bf6bd434barow7_col2\" class=\"data row7 col2\" >4</td>\n",
       "                        <td id=\"T_f9d3a580_64fb_11eb_88f9_48bf6bd434barow7_col3\" class=\"data row7 col3\" >0</td>\n",
       "                        <td id=\"T_f9d3a580_64fb_11eb_88f9_48bf6bd434barow7_col4\" class=\"data row7 col4\" >0</td>\n",
       "                        <td id=\"T_f9d3a580_64fb_11eb_88f9_48bf6bd434barow7_col5\" class=\"data row7 col5\" ></td>\n",
       "            </tr>\n",
       "    </tbody></table>"
      ],
      "text/plain": [
       "<pandas.io.formats.style.Styler at 0x7fbf4833ecc0>"
      ]
     },
     "execution_count": 45,
     "metadata": {},
     "output_type": "execute_result"
    }
   ],
   "source": [
    "# Creating a DataFrame with useful information about all datasets\n",
    "df_info = pd.DataFrame({})\n",
    "df_info['dataset'] = names\n",
    "df_info['n_rows'] = [df.shape[0] for df in datasets]\n",
    "df_info['n_cols'] = [df.shape[1] for df in datasets]\n",
    "df_info['null_amount'] = [df.isnull().sum().sum() for df in datasets]\n",
    "df_info['null_columns_qty'] = [len([col for col, null in df.isnull().sum().items() if null > 0]) for df in datasets]\n",
    "df_info['null_columns_names'] = [', '.join([col for col, null in df.isnull().sum().items() if null > 0]) for df in datasets]\n",
    "\n",
    "df_info.style.background_gradient()"
   ]
  },
  {
   "cell_type": "markdown",
   "metadata": {},
   "source": [
    "### HANDLING MISSING VALUES"
   ]
  },
  {
   "cell_type": "code",
   "execution_count": 46,
   "metadata": {},
   "outputs": [],
   "source": [
    "olist_orders = olist_orders.drop(columns=['order_approved_at' , 'order_delivered_customer_date', 'order_delivered_carrier_date'])\n",
    "olist_products = olist_products.drop(columns=[\"product_weight_g\",\"product_name_lenght\", \"product_description_lenght\", \"product_photos_qty\", \"product_height_cm\", \"product_width_cm\", \"product_length_cm\"])\n",
    "olist_order_reviews = olist_order_reviews.drop(columns=['review_comment_title', 'review_comment_message'])"
   ]
  },
  {
   "cell_type": "markdown",
   "metadata": {},
   "source": [
    "## Exploratory Data Analysis\n",
    "#### We will go through an exploratory data analysis to get insights from E-Commerce in Brazil. The aim here is to divide this dataset into topics so we can explore visualisation for each dataset (orders, customers, products, items, and others)"
   ]
  },
  {
   "cell_type": "markdown",
   "metadata": {},
   "source": [
    "#### ORDER SUMMARY: "
   ]
  },
  {
   "cell_type": "code",
   "execution_count": 47,
   "metadata": {},
   "outputs": [
    {
     "name": "stdout",
     "output_type": "stream",
     "text": [
      "Total number of orders in the database: 99441\n",
      "Total Number of customers: 99441\n"
     ]
    }
   ],
   "source": [
    "print(\"Total number of orders in the database:\",olist_orders['order_id'].nunique())\n",
    "print(\"Total Number of customers:\",olist_orders['customer_id'].nunique())"
   ]
  },
  {
   "cell_type": "code",
   "execution_count": 48,
   "metadata": {},
   "outputs": [
    {
     "data": {
      "text/plain": [
       "delivered      96478\n",
       "shipped         1107\n",
       "canceled         625\n",
       "unavailable      609\n",
       "invoiced         314\n",
       "processing       301\n",
       "created            5\n",
       "approved           2\n",
       "Name: order_status, dtype: int64"
      ]
     },
     "execution_count": 48,
     "metadata": {},
     "output_type": "execute_result"
    }
   ],
   "source": [
    "olist_orders['order_status'].value_counts()"
   ]
  },
  {
   "cell_type": "markdown",
   "metadata": {},
   "source": [
    "###### Let's check the order status - A majority of the orders in the database are delivered products , while some are in transit "
   ]
  },
  {
   "cell_type": "markdown",
   "metadata": {},
   "source": [
    "#### ORDER VALUE: "
   ]
  },
  {
   "cell_type": "code",
   "execution_count": 49,
   "metadata": {},
   "outputs": [
    {
     "name": "stdout",
     "output_type": "stream",
     "text": [
      "Maximum amount of order is BRL: 13664.08\n",
      "Minimum amount of order is BRL: 0.0\n",
      "Average order value is BRL: 154.10038041698365\n",
      "Median order value is BRL: 100.0\n"
     ]
    }
   ],
   "source": [
    "print(\"Maximum amount of order is BRL:\", olist_order_payments['payment_value'].max())\n",
    "print(\"Minimum amount of order is BRL:\", olist_order_payments['payment_value'].min())\n",
    "print(\"Average order value is BRL:\", olist_order_payments['payment_value'].mean())\n",
    "print(\"Median order value is BRL:\", olist_order_payments['payment_value'].median())"
   ]
  },
  {
   "cell_type": "code",
   "execution_count": 50,
   "metadata": {},
   "outputs": [
    {
     "data": {
      "text/html": [
       "<div>\n",
       "<style scoped>\n",
       "    .dataframe tbody tr th:only-of-type {\n",
       "        vertical-align: middle;\n",
       "    }\n",
       "\n",
       "    .dataframe tbody tr th {\n",
       "        vertical-align: top;\n",
       "    }\n",
       "\n",
       "    .dataframe thead th {\n",
       "        text-align: right;\n",
       "    }\n",
       "</style>\n",
       "<table border=\"1\" class=\"dataframe\">\n",
       "  <thead>\n",
       "    <tr style=\"text-align: right;\">\n",
       "      <th></th>\n",
       "      <th>order_id</th>\n",
       "      <th>order_item_id</th>\n",
       "      <th>product_id</th>\n",
       "      <th>seller_id</th>\n",
       "      <th>shipping_limit_date</th>\n",
       "      <th>price</th>\n",
       "      <th>freight_value</th>\n",
       "    </tr>\n",
       "  </thead>\n",
       "  <tbody>\n",
       "    <tr>\n",
       "      <th>0</th>\n",
       "      <td>00010242fe8c5a6d1ba2dd792cb16214</td>\n",
       "      <td>1</td>\n",
       "      <td>4244733e06e7ecb4970a6e2683c13e61</td>\n",
       "      <td>48436dade18ac8b2bce089ec2a041202</td>\n",
       "      <td>2017-09-19 09:45:35</td>\n",
       "      <td>58.90</td>\n",
       "      <td>13.29</td>\n",
       "    </tr>\n",
       "    <tr>\n",
       "      <th>1</th>\n",
       "      <td>00018f77f2f0320c557190d7a144bdd3</td>\n",
       "      <td>1</td>\n",
       "      <td>e5f2d52b802189ee658865ca93d83a8f</td>\n",
       "      <td>dd7ddc04e1b6c2c614352b383efe2d36</td>\n",
       "      <td>2017-05-03 11:05:13</td>\n",
       "      <td>239.90</td>\n",
       "      <td>19.93</td>\n",
       "    </tr>\n",
       "    <tr>\n",
       "      <th>2</th>\n",
       "      <td>000229ec398224ef6ca0657da4fc703e</td>\n",
       "      <td>1</td>\n",
       "      <td>c777355d18b72b67abbeef9df44fd0fd</td>\n",
       "      <td>5b51032eddd242adc84c38acab88f23d</td>\n",
       "      <td>2018-01-18 14:48:30</td>\n",
       "      <td>199.00</td>\n",
       "      <td>17.87</td>\n",
       "    </tr>\n",
       "    <tr>\n",
       "      <th>3</th>\n",
       "      <td>00024acbcdf0a6daa1e931b038114c75</td>\n",
       "      <td>1</td>\n",
       "      <td>7634da152a4610f1595efa32f14722fc</td>\n",
       "      <td>9d7a1d34a5052409006425275ba1c2b4</td>\n",
       "      <td>2018-08-15 10:10:18</td>\n",
       "      <td>12.99</td>\n",
       "      <td>12.79</td>\n",
       "    </tr>\n",
       "    <tr>\n",
       "      <th>4</th>\n",
       "      <td>00042b26cf59d7ce69dfabb4e55b4fd9</td>\n",
       "      <td>1</td>\n",
       "      <td>ac6c3623068f30de03045865e4e10089</td>\n",
       "      <td>df560393f3a51e74553ab94004ba5c87</td>\n",
       "      <td>2017-02-13 13:57:51</td>\n",
       "      <td>199.90</td>\n",
       "      <td>18.14</td>\n",
       "    </tr>\n",
       "    <tr>\n",
       "      <th>5</th>\n",
       "      <td>00048cc3ae777c65dbb7d2a0634bc1ea</td>\n",
       "      <td>1</td>\n",
       "      <td>ef92defde845ab8450f9d70c526ef70f</td>\n",
       "      <td>6426d21aca402a131fc0a5d0960a3c90</td>\n",
       "      <td>2017-05-23 03:55:27</td>\n",
       "      <td>21.90</td>\n",
       "      <td>12.69</td>\n",
       "    </tr>\n",
       "    <tr>\n",
       "      <th>6</th>\n",
       "      <td>00054e8431b9d7675808bcb819fb4a32</td>\n",
       "      <td>1</td>\n",
       "      <td>8d4f2bb7e93e6710a28f34fa83ee7d28</td>\n",
       "      <td>7040e82f899a04d1b434b795a43b4617</td>\n",
       "      <td>2017-12-14 12:10:31</td>\n",
       "      <td>19.90</td>\n",
       "      <td>11.85</td>\n",
       "    </tr>\n",
       "    <tr>\n",
       "      <th>7</th>\n",
       "      <td>000576fe39319847cbb9d288c5617fa6</td>\n",
       "      <td>1</td>\n",
       "      <td>557d850972a7d6f792fd18ae1400d9b6</td>\n",
       "      <td>5996cddab893a4652a15592fb58ab8db</td>\n",
       "      <td>2018-07-10 12:30:45</td>\n",
       "      <td>810.00</td>\n",
       "      <td>70.75</td>\n",
       "    </tr>\n",
       "    <tr>\n",
       "      <th>8</th>\n",
       "      <td>0005a1a1728c9d785b8e2b08b904576c</td>\n",
       "      <td>1</td>\n",
       "      <td>310ae3c140ff94b03219ad0adc3c778f</td>\n",
       "      <td>a416b6a846a11724393025641d4edd5e</td>\n",
       "      <td>2018-03-26 18:31:29</td>\n",
       "      <td>145.95</td>\n",
       "      <td>11.65</td>\n",
       "    </tr>\n",
       "    <tr>\n",
       "      <th>9</th>\n",
       "      <td>0005f50442cb953dcd1d21e1fb923495</td>\n",
       "      <td>1</td>\n",
       "      <td>4535b0e1091c278dfd193e5a1d63b39f</td>\n",
       "      <td>ba143b05f0110f0dc71ad71b4466ce92</td>\n",
       "      <td>2018-07-06 14:10:56</td>\n",
       "      <td>53.99</td>\n",
       "      <td>11.40</td>\n",
       "    </tr>\n",
       "  </tbody>\n",
       "</table>\n",
       "</div>"
      ],
      "text/plain": [
       "                           order_id  order_item_id  \\\n",
       "0  00010242fe8c5a6d1ba2dd792cb16214              1   \n",
       "1  00018f77f2f0320c557190d7a144bdd3              1   \n",
       "2  000229ec398224ef6ca0657da4fc703e              1   \n",
       "3  00024acbcdf0a6daa1e931b038114c75              1   \n",
       "4  00042b26cf59d7ce69dfabb4e55b4fd9              1   \n",
       "5  00048cc3ae777c65dbb7d2a0634bc1ea              1   \n",
       "6  00054e8431b9d7675808bcb819fb4a32              1   \n",
       "7  000576fe39319847cbb9d288c5617fa6              1   \n",
       "8  0005a1a1728c9d785b8e2b08b904576c              1   \n",
       "9  0005f50442cb953dcd1d21e1fb923495              1   \n",
       "\n",
       "                         product_id                         seller_id  \\\n",
       "0  4244733e06e7ecb4970a6e2683c13e61  48436dade18ac8b2bce089ec2a041202   \n",
       "1  e5f2d52b802189ee658865ca93d83a8f  dd7ddc04e1b6c2c614352b383efe2d36   \n",
       "2  c777355d18b72b67abbeef9df44fd0fd  5b51032eddd242adc84c38acab88f23d   \n",
       "3  7634da152a4610f1595efa32f14722fc  9d7a1d34a5052409006425275ba1c2b4   \n",
       "4  ac6c3623068f30de03045865e4e10089  df560393f3a51e74553ab94004ba5c87   \n",
       "5  ef92defde845ab8450f9d70c526ef70f  6426d21aca402a131fc0a5d0960a3c90   \n",
       "6  8d4f2bb7e93e6710a28f34fa83ee7d28  7040e82f899a04d1b434b795a43b4617   \n",
       "7  557d850972a7d6f792fd18ae1400d9b6  5996cddab893a4652a15592fb58ab8db   \n",
       "8  310ae3c140ff94b03219ad0adc3c778f  a416b6a846a11724393025641d4edd5e   \n",
       "9  4535b0e1091c278dfd193e5a1d63b39f  ba143b05f0110f0dc71ad71b4466ce92   \n",
       "\n",
       "   shipping_limit_date   price  freight_value  \n",
       "0  2017-09-19 09:45:35   58.90          13.29  \n",
       "1  2017-05-03 11:05:13  239.90          19.93  \n",
       "2  2018-01-18 14:48:30  199.00          17.87  \n",
       "3  2018-08-15 10:10:18   12.99          12.79  \n",
       "4  2017-02-13 13:57:51  199.90          18.14  \n",
       "5  2017-05-23 03:55:27   21.90          12.69  \n",
       "6  2017-12-14 12:10:31   19.90          11.85  \n",
       "7  2018-07-10 12:30:45  810.00          70.75  \n",
       "8  2018-03-26 18:31:29  145.95          11.65  \n",
       "9  2018-07-06 14:10:56   53.99          11.40  "
      ]
     },
     "execution_count": 50,
     "metadata": {},
     "output_type": "execute_result"
    }
   ],
   "source": [
    "olist_order_items.head(10)"
   ]
  },
  {
   "cell_type": "markdown",
   "metadata": {},
   "source": [
    "### The top 5 orders and their value is shown below :-\n",
    "#### We summarise the order with the help of order id and have a look at the order value and freight value."
   ]
  },
  {
   "cell_type": "code",
   "execution_count": 51,
   "metadata": {},
   "outputs": [],
   "source": [
    "value = olist_order_items.groupby('order_id')['price','freight_value'].sum().sort_values(by='price',ascending=False).reset_index()"
   ]
  },
  {
   "cell_type": "code",
   "execution_count": 52,
   "metadata": {},
   "outputs": [
    {
     "data": {
      "text/html": [
       "<div>\n",
       "<style scoped>\n",
       "    .dataframe tbody tr th:only-of-type {\n",
       "        vertical-align: middle;\n",
       "    }\n",
       "\n",
       "    .dataframe tbody tr th {\n",
       "        vertical-align: top;\n",
       "    }\n",
       "\n",
       "    .dataframe thead th {\n",
       "        text-align: right;\n",
       "    }\n",
       "</style>\n",
       "<table border=\"1\" class=\"dataframe\">\n",
       "  <thead>\n",
       "    <tr style=\"text-align: right;\">\n",
       "      <th></th>\n",
       "      <th>order_id</th>\n",
       "      <th>price</th>\n",
       "      <th>freight_value</th>\n",
       "    </tr>\n",
       "  </thead>\n",
       "  <tbody>\n",
       "    <tr>\n",
       "      <th>0</th>\n",
       "      <td>03caa2c082116e1d31e67e9ae3700499</td>\n",
       "      <td>13440.0</td>\n",
       "      <td>224.08</td>\n",
       "    </tr>\n",
       "    <tr>\n",
       "      <th>1</th>\n",
       "      <td>736e1922ae60d0d6a89247b851902527</td>\n",
       "      <td>7160.0</td>\n",
       "      <td>114.88</td>\n",
       "    </tr>\n",
       "    <tr>\n",
       "      <th>2</th>\n",
       "      <td>0812eb902a67711a1cb742b3cdaa65ae</td>\n",
       "      <td>6735.0</td>\n",
       "      <td>194.31</td>\n",
       "    </tr>\n",
       "    <tr>\n",
       "      <th>3</th>\n",
       "      <td>fefacc66af859508bf1a7934eab1e97f</td>\n",
       "      <td>6729.0</td>\n",
       "      <td>193.21</td>\n",
       "    </tr>\n",
       "    <tr>\n",
       "      <th>4</th>\n",
       "      <td>f5136e38d1a14a4dbd87dff67da82701</td>\n",
       "      <td>6499.0</td>\n",
       "      <td>227.66</td>\n",
       "    </tr>\n",
       "  </tbody>\n",
       "</table>\n",
       "</div>"
      ],
      "text/plain": [
       "                           order_id    price  freight_value\n",
       "0  03caa2c082116e1d31e67e9ae3700499  13440.0         224.08\n",
       "1  736e1922ae60d0d6a89247b851902527   7160.0         114.88\n",
       "2  0812eb902a67711a1cb742b3cdaa65ae   6735.0         194.31\n",
       "3  fefacc66af859508bf1a7934eab1e97f   6729.0         193.21\n",
       "4  f5136e38d1a14a4dbd87dff67da82701   6499.0         227.66"
      ]
     },
     "execution_count": 52,
     "metadata": {},
     "output_type": "execute_result"
    }
   ],
   "source": [
    "value.head(5)"
   ]
  },
  {
   "cell_type": "code",
   "execution_count": 53,
   "metadata": {},
   "outputs": [
    {
     "data": {
      "text/html": [
       "<div>\n",
       "<style scoped>\n",
       "    .dataframe tbody tr th:only-of-type {\n",
       "        vertical-align: middle;\n",
       "    }\n",
       "\n",
       "    .dataframe tbody tr th {\n",
       "        vertical-align: top;\n",
       "    }\n",
       "\n",
       "    .dataframe thead th {\n",
       "        text-align: right;\n",
       "    }\n",
       "</style>\n",
       "<table border=\"1\" class=\"dataframe\">\n",
       "  <thead>\n",
       "    <tr style=\"text-align: right;\">\n",
       "      <th></th>\n",
       "      <th>order_id</th>\n",
       "      <th>price</th>\n",
       "      <th>freight_value</th>\n",
       "    </tr>\n",
       "  </thead>\n",
       "  <tbody>\n",
       "    <tr>\n",
       "      <th>98661</th>\n",
       "      <td>38bcb524e1c38c2c1b60600a80fc8999</td>\n",
       "      <td>2.90</td>\n",
       "      <td>8.72</td>\n",
       "    </tr>\n",
       "    <tr>\n",
       "      <th>98662</th>\n",
       "      <td>e8bbc1d69fee39eee4c72cb5c969e39d</td>\n",
       "      <td>2.29</td>\n",
       "      <td>7.78</td>\n",
       "    </tr>\n",
       "    <tr>\n",
       "      <th>98663</th>\n",
       "      <td>f1d5c2e6867fa93ceee9ef9b34a53cbf</td>\n",
       "      <td>2.20</td>\n",
       "      <td>7.39</td>\n",
       "    </tr>\n",
       "    <tr>\n",
       "      <th>98664</th>\n",
       "      <td>3ee6513ae7ea23bdfab5b9ab60bffcb5</td>\n",
       "      <td>0.85</td>\n",
       "      <td>18.23</td>\n",
       "    </tr>\n",
       "    <tr>\n",
       "      <th>98665</th>\n",
       "      <td>6e864b3f0ec71031117ad4cf46b7f2a1</td>\n",
       "      <td>0.85</td>\n",
       "      <td>18.23</td>\n",
       "    </tr>\n",
       "  </tbody>\n",
       "</table>\n",
       "</div>"
      ],
      "text/plain": [
       "                               order_id  price  freight_value\n",
       "98661  38bcb524e1c38c2c1b60600a80fc8999   2.90           8.72\n",
       "98662  e8bbc1d69fee39eee4c72cb5c969e39d   2.29           7.78\n",
       "98663  f1d5c2e6867fa93ceee9ef9b34a53cbf   2.20           7.39\n",
       "98664  3ee6513ae7ea23bdfab5b9ab60bffcb5   0.85          18.23\n",
       "98665  6e864b3f0ec71031117ad4cf46b7f2a1   0.85          18.23"
      ]
     },
     "execution_count": 53,
     "metadata": {},
     "output_type": "execute_result"
    }
   ],
   "source": [
    "value.tail(5)"
   ]
  },
  {
   "cell_type": "markdown",
   "metadata": {},
   "source": [
    "#### Lets plot a histogram of the product value and freight value to understand the skewness of the data."
   ]
  },
  {
   "cell_type": "code",
   "execution_count": 54,
   "metadata": {},
   "outputs": [
    {
     "data": {
      "text/plain": [
       "Text(0, 0.5, 'Frequency')"
      ]
     },
     "execution_count": 54,
     "metadata": {},
     "output_type": "execute_result"
    },
    {
     "data": {
      "image/png": "[encoded data removed]",
      "text/plain": [
       "<Figure size 864x720 with 2 Axes>"
      ]
     },
     "metadata": {
      "needs_background": "light"
     },
     "output_type": "display_data"
    }
   ],
   "source": [
    "plt.figure(figsize=(12,10))\n",
    "\n",
    "plt.subplot(221)\n",
    "g = sns.distplot(np.log(olist_order_items['price'] + 1))\n",
    "g.set_title(\"Product Value of Orders - Distribution\", fontsize=15)\n",
    "g.set_xlabel(\"\")\n",
    "g.set_ylabel(\"Frequency\", fontsize=12)\n",
    "\n",
    "plt.subplot(222)\n",
    "g1 = sns.distplot(np.log(olist_order_items['freight_value'] + 1))\n",
    "g1.set_title(\"Freight Value of Orders - Distribution\", fontsize=15)\n",
    "g1.set_xlabel(\"\")\n",
    "g1.set_ylabel(\"Frequency\", fontsize=12)"
   ]
  },
  {
   "cell_type": "markdown",
   "metadata": {},
   "source": [
    "Both the distributions seems to follow a normal curve.Lets check the skewness and kurtosis."
   ]
  },
  {
   "cell_type": "code",
   "execution_count": 55,
   "metadata": {},
   "outputs": [
    {
     "name": "stdout",
     "output_type": "stream",
     "text": [
      "Skewness of the transaction value: 0.29352507587395965\n",
      "Excess Kurtosis of the transaction value: 0.44552502721084064\n"
     ]
    }
   ],
   "source": [
    "print(\"Skewness of the transaction value:\",skew(np.log(olist_order_items['price']+1)))\n",
    "print(\"Excess Kurtosis of the transaction value:\",kurtosis(np.log(olist_order_items['price']+1)))"
   ]
  },
  {
   "cell_type": "markdown",
   "metadata": {},
   "source": [
    "Skewness of the data suggests that the data is fairly symmetrical and positive whereas kurtosis value is < 3."
   ]
  },
  {
   "cell_type": "markdown",
   "metadata": {},
   "source": [
    "### 1. Total Orders on E-Commerce\n",
    "\n",
    "#### Let's dive into the orders dataset to see how the trend can be presented in Brazil.\n",
    "\n",
    "Looking at the order dataset columns, we can see orders with different status and with different timestamp columns like purchase, approved, delivered and estimated delivery. First, let's look at the status of the orders we have in this dataset.\n",
    "\n",
    "### How many orders we have for each status?"
   ]
  },
  {
   "cell_type": "code",
   "execution_count": 56,
   "metadata": {},
   "outputs": [
    {
     "data": {
      "text/html": [
       "<div>\n",
       "<style scoped>\n",
       "    .dataframe tbody tr th:only-of-type {\n",
       "        vertical-align: middle;\n",
       "    }\n",
       "\n",
       "    .dataframe tbody tr th {\n",
       "        vertical-align: top;\n",
       "    }\n",
       "\n",
       "    .dataframe thead th {\n",
       "        text-align: right;\n",
       "    }\n",
       "</style>\n",
       "<table border=\"1\" class=\"dataframe\">\n",
       "  <thead>\n",
       "    <tr style=\"text-align: right;\">\n",
       "      <th></th>\n",
       "      <th>order_id</th>\n",
       "      <th>customer_id</th>\n",
       "      <th>order_status</th>\n",
       "      <th>order_purchase_timestamp</th>\n",
       "      <th>order_estimated_delivery_date</th>\n",
       "    </tr>\n",
       "  </thead>\n",
       "  <tbody>\n",
       "    <tr>\n",
       "      <th>0</th>\n",
       "      <td>e481f51cbdc54678b7cc49136f2d6af7</td>\n",
       "      <td>9ef432eb6251297304e76186b10a928d</td>\n",
       "      <td>delivered</td>\n",
       "      <td>2017-10-02 10:56:33</td>\n",
       "      <td>2017-10-18 00:00:00</td>\n",
       "    </tr>\n",
       "    <tr>\n",
       "      <th>1</th>\n",
       "      <td>53cdb2fc8bc7dce0b6741e2150273451</td>\n",
       "      <td>b0830fb4747a6c6d20dea0b8c802d7ef</td>\n",
       "      <td>delivered</td>\n",
       "      <td>2018-07-24 20:41:37</td>\n",
       "      <td>2018-08-13 00:00:00</td>\n",
       "    </tr>\n",
       "    <tr>\n",
       "      <th>2</th>\n",
       "      <td>47770eb9100c2d0c44946d9cf07ec65d</td>\n",
       "      <td>41ce2a54c0b03bf3443c3d931a367089</td>\n",
       "      <td>delivered</td>\n",
       "      <td>2018-08-08 08:38:49</td>\n",
       "      <td>2018-09-04 00:00:00</td>\n",
       "    </tr>\n",
       "    <tr>\n",
       "      <th>3</th>\n",
       "      <td>949d5b44dbf5de918fe9c16f97b45f8a</td>\n",
       "      <td>f88197465ea7920adcdbec7375364d82</td>\n",
       "      <td>delivered</td>\n",
       "      <td>2017-11-18 19:28:06</td>\n",
       "      <td>2017-12-15 00:00:00</td>\n",
       "    </tr>\n",
       "    <tr>\n",
       "      <th>4</th>\n",
       "      <td>ad21c59c0840e6cb83a9ceb5573f8159</td>\n",
       "      <td>8ab97904e6daea8866dbdbc4fb7aad2c</td>\n",
       "      <td>delivered</td>\n",
       "      <td>2018-02-13 21:18:39</td>\n",
       "      <td>2018-02-26 00:00:00</td>\n",
       "    </tr>\n",
       "    <tr>\n",
       "      <th>5</th>\n",
       "      <td>a4591c265e18cb1dcee52889e2d8acc3</td>\n",
       "      <td>503740e9ca751ccdda7ba28e9ab8f608</td>\n",
       "      <td>delivered</td>\n",
       "      <td>2017-07-09 21:57:05</td>\n",
       "      <td>2017-08-01 00:00:00</td>\n",
       "    </tr>\n",
       "    <tr>\n",
       "      <th>6</th>\n",
       "      <td>136cce7faa42fdb2cefd53fdc79a6098</td>\n",
       "      <td>ed0271e0b7da060a393796590e7b737a</td>\n",
       "      <td>invoiced</td>\n",
       "      <td>2017-04-11 12:22:08</td>\n",
       "      <td>2017-05-09 00:00:00</td>\n",
       "    </tr>\n",
       "    <tr>\n",
       "      <th>7</th>\n",
       "      <td>6514b8ad8028c9f2cc2374ded245783f</td>\n",
       "      <td>9bdf08b4b3b52b5526ff42d37d47f222</td>\n",
       "      <td>delivered</td>\n",
       "      <td>2017-05-16 13:10:30</td>\n",
       "      <td>2017-06-07 00:00:00</td>\n",
       "    </tr>\n",
       "    <tr>\n",
       "      <th>8</th>\n",
       "      <td>76c6e866289321a7c93b82b54852dc33</td>\n",
       "      <td>f54a9f0e6b351c431402b8461ea51999</td>\n",
       "      <td>delivered</td>\n",
       "      <td>2017-01-23 18:29:09</td>\n",
       "      <td>2017-03-06 00:00:00</td>\n",
       "    </tr>\n",
       "    <tr>\n",
       "      <th>9</th>\n",
       "      <td>e69bfb5eb88e0ed6a785585b27e16dbf</td>\n",
       "      <td>31ad1d1b63eb9962463f764d4e6e0c9d</td>\n",
       "      <td>delivered</td>\n",
       "      <td>2017-07-29 11:55:02</td>\n",
       "      <td>2017-08-23 00:00:00</td>\n",
       "    </tr>\n",
       "  </tbody>\n",
       "</table>\n",
       "</div>"
      ],
      "text/plain": [
       "                           order_id                       customer_id  \\\n",
       "0  e481f51cbdc54678b7cc49136f2d6af7  9ef432eb6251297304e76186b10a928d   \n",
       "1  53cdb2fc8bc7dce0b6741e2150273451  b0830fb4747a6c6d20dea0b8c802d7ef   \n",
       "2  47770eb9100c2d0c44946d9cf07ec65d  41ce2a54c0b03bf3443c3d931a367089   \n",
       "3  949d5b44dbf5de918fe9c16f97b45f8a  f88197465ea7920adcdbec7375364d82   \n",
       "4  ad21c59c0840e6cb83a9ceb5573f8159  8ab97904e6daea8866dbdbc4fb7aad2c   \n",
       "5  a4591c265e18cb1dcee52889e2d8acc3  503740e9ca751ccdda7ba28e9ab8f608   \n",
       "6  136cce7faa42fdb2cefd53fdc79a6098  ed0271e0b7da060a393796590e7b737a   \n",
       "7  6514b8ad8028c9f2cc2374ded245783f  9bdf08b4b3b52b5526ff42d37d47f222   \n",
       "8  76c6e866289321a7c93b82b54852dc33  f54a9f0e6b351c431402b8461ea51999   \n",
       "9  e69bfb5eb88e0ed6a785585b27e16dbf  31ad1d1b63eb9962463f764d4e6e0c9d   \n",
       "\n",
       "  order_status order_purchase_timestamp order_estimated_delivery_date  \n",
       "0    delivered      2017-10-02 10:56:33           2017-10-18 00:00:00  \n",
       "1    delivered      2018-07-24 20:41:37           2018-08-13 00:00:00  \n",
       "2    delivered      2018-08-08 08:38:49           2018-09-04 00:00:00  \n",
       "3    delivered      2017-11-18 19:28:06           2017-12-15 00:00:00  \n",
       "4    delivered      2018-02-13 21:18:39           2018-02-26 00:00:00  \n",
       "5    delivered      2017-07-09 21:57:05           2017-08-01 00:00:00  \n",
       "6     invoiced      2017-04-11 12:22:08           2017-05-09 00:00:00  \n",
       "7    delivered      2017-05-16 13:10:30           2017-06-07 00:00:00  \n",
       "8    delivered      2017-01-23 18:29:09           2017-03-06 00:00:00  \n",
       "9    delivered      2017-07-29 11:55:02           2017-08-23 00:00:00  "
      ]
     },
     "execution_count": 56,
     "metadata": {},
     "output_type": "execute_result"
    }
   ],
   "source": [
    "olist_orders.head(10)"
   ]
  },
  {
   "cell_type": "code",
   "execution_count": 57,
   "metadata": {},
   "outputs": [
    {
     "data": {
      "text/plain": [
       "delivered      96478\n",
       "shipped         1107\n",
       "canceled         625\n",
       "unavailable      609\n",
       "invoiced         314\n",
       "processing       301\n",
       "created            5\n",
       "approved           2\n",
       "Name: order_status, dtype: int64"
      ]
     },
     "execution_count": 57,
     "metadata": {},
     "output_type": "execute_result"
    }
   ],
   "source": [
    "olist_orders['order_status'].value_counts()"
   ]
  },
  {
   "cell_type": "code",
   "execution_count": 58,
   "metadata": {},
   "outputs": [
    {
     "data": {
      "application/vnd.plotly.v1+json": {
       "config": {
        "plotlyServerURL": "https://plot.ly"
       },
       "data": [
        {
         "alignmentgroup": "True",
         "hoverlabel": {
          "namelength": 0
         },
         "hovertemplate": "order_status=%{x}<br>Total Count of Status=%{y}",
         "legendgroup": "order_status=approved",
         "marker": {
          "color": "#636efa"
         },
         "name": "order_status=approved",
         "offsetgroup": "order_status=approved",
         "orientation": "v",
         "showlegend": true,
         "textposition": "auto",
         "type": "bar",
         "x": [
          "approved"
         ],
         "xaxis": "x",
         "y": [
          2
         ],
         "yaxis": "y"
        },
        {
         "alignmentgroup": "True",
         "hoverlabel": {
          "namelength": 0
         },
         "hovertemplate": "order_status=%{x}<br>Total Count of Status=%{y}",
         "legendgroup": "order_status=canceled",
         "marker": {
          "color": "#EF553B"
         },
         "name": "order_status=canceled",
         "offsetgroup": "order_status=canceled",
         "orientation": "v",
         "showlegend": true,
         "textposition": "auto",
         "type": "bar",
         "x": [
          "canceled"
         ],
         "xaxis": "x",
         "y": [
          625
         ],
         "yaxis": "y"
        },
        {
         "alignmentgroup": "True",
         "hoverlabel": {
          "namelength": 0
         },
         "hovertemplate": "order_status=%{x}<br>Total Count of Status=%{y}",
         "legendgroup": "order_status=created",
         "marker": {
          "color": "#00cc96"
         },
         "name": "order_status=created",
         "offsetgroup": "order_status=created",
         "orientation": "v",
         "showlegend": true,
         "textposition": "auto",
         "type": "bar",
         "x": [
          "created"
         ],
         "xaxis": "x",
         "y": [
          5
         ],
         "yaxis": "y"
        },
        {
         "alignmentgroup": "True",
         "hoverlabel": {
          "namelength": 0
         },
         "hovertemplate": "order_status=%{x}<br>Total Count of Status=%{y}",
         "legendgroup": "order_status=delivered",
         "marker": {
          "color": "#ab63fa"
         },
         "name": "order_status=delivered",
         "offsetgroup": "order_status=delivered",
         "orientation": "v",
         "showlegend": true,
         "textposition": "auto",
         "type": "bar",
         "x": [
          "delivered"
         ],
         "xaxis": "x",
         "y": [
          96478
         ],
         "yaxis": "y"
        },
        {
         "alignmentgroup": "True",
         "hoverlabel": {
          "namelength": 0
         },
         "hovertemplate": "order_status=%{x}<br>Total Count of Status=%{y}",
         "legendgroup": "order_status=invoiced",
         "marker": {
          "color": "#FFA15A"
         },
         "name": "order_status=invoiced",
         "offsetgroup": "order_status=invoiced",
         "orientation": "v",
         "showlegend": true,
         "textposition": "auto",
         "type": "bar",
         "x": [
          "invoiced"
         ],
         "xaxis": "x",
         "y": [
          314
         ],
         "yaxis": "y"
        },
        {
         "alignmentgroup": "True",
         "hoverlabel": {
          "namelength": 0
         },
         "hovertemplate": "order_status=%{x}<br>Total Count of Status=%{y}",
         "legendgroup": "order_status=processing",
         "marker": {
          "color": "#19d3f3"
         },
         "name": "order_status=processing",
         "offsetgroup": "order_status=processing",
         "orientation": "v",
         "showlegend": true,
         "textposition": "auto",
         "type": "bar",
         "x": [
          "processing"
         ],
         "xaxis": "x",
         "y": [
          301
         ],
         "yaxis": "y"
        },
        {
         "alignmentgroup": "True",
         "hoverlabel": {
          "namelength": 0
         },
         "hovertemplate": "order_status=%{x}<br>Total Count of Status=%{y}",
         "legendgroup": "order_status=shipped",
         "marker": {
          "color": "#FF6692"
         },
         "name": "order_status=shipped",
         "offsetgroup": "order_status=shipped",
         "orientation": "v",
         "showlegend": true,
         "textposition": "auto",
         "type": "bar",
         "x": [
          "shipped"
         ],
         "xaxis": "x",
         "y": [
          1107
         ],
         "yaxis": "y"
        },
        {
         "alignmentgroup": "True",
         "hoverlabel": {
          "namelength": 0
         },
         "hovertemplate": "order_status=%{x}<br>Total Count of Status=%{y}",
         "legendgroup": "order_status=unavailable",
         "marker": {
          "color": "#B6E880"
         },
         "name": "order_status=unavailable",
         "offsetgroup": "order_status=unavailable",
         "orientation": "v",
         "showlegend": true,
         "textposition": "auto",
         "type": "bar",
         "x": [
          "unavailable"
         ],
         "xaxis": "x",
         "y": [
          609
         ],
         "yaxis": "y"
        }
       ],
       "layout": {
        "barmode": "relative",
        "height": 600,
        "legend": {
         "tracegroupgap": 0
        },
        "margin": {
         "t": 60
        },
        "template": {
         "data": {
          "bar": [
           {
            "error_x": {
             "color": "#2a3f5f"
            },
            "error_y": {
             "color": "#2a3f5f"
            },
            "marker": {
             "line": {
              "color": "#E5ECF6",
              "width": 0.5
             }
            },
            "type": "bar"
           }
          ],
          "barpolar": [
           {
            "marker": {
             "line": {
              "color": "#E5ECF6",
              "width": 0.5
             }
            },
            "type": "barpolar"
           }
          ],
          "carpet": [
           {
            "aaxis": {
             "endlinecolor": "#2a3f5f",
             "gridcolor": "white",
             "linecolor": "white",
             "minorgridcolor": "white",
             "startlinecolor": "#2a3f5f"
            },
            "baxis": {
             "endlinecolor": "#2a3f5f",
             "gridcolor": "white",
             "linecolor": "white",
             "minorgridcolor": "white",
             "startlinecolor": "#2a3f5f"
            },
            "type": "carpet"
           }
          ],
          "choropleth": [
           {
            "colorbar": {
             "outlinewidth": 0,
             "ticks": ""
            },
            "type": "choropleth"
           }
          ],
          "contour": [
           {
            "colorbar": {
             "outlinewidth": 0,
             "ticks": ""
            },
            "colorscale": [
             [
              0,
              "#0d0887"
             ],
             [
              0.1111111111111111,
              "#46039f"
             ],
             [
              0.2222222222222222,
              "#7201a8"
             ],
             [
              0.3333333333333333,
              "#9c179e"
             ],
             [
              0.4444444444444444,
              "#bd3786"
             ],
             [
              0.5555555555555556,
              "#d8576b"
             ],
             [
              0.6666666666666666,
              "#ed7953"
             ],
             [
              0.7777777777777778,
              "#fb9f3a"
             ],
             [
              0.8888888888888888,
              "#fdca26"
             ],
             [
              1,
              "#f0f921"
             ]
            ],
            "type": "contour"
           }
          ],
          "contourcarpet": [
           {
            "colorbar": {
             "outlinewidth": 0,
             "ticks": ""
            },
            "type": "contourcarpet"
           }
          ],
          "heatmap": [
           {
            "colorbar": {
             "outlinewidth": 0,
             "ticks": ""
            },
            "colorscale": [
             [
              0,
              "#0d0887"
             ],
             [
              0.1111111111111111,
              "#46039f"
             ],
             [
              0.2222222222222222,
              "#7201a8"
             ],
             [
              0.3333333333333333,
              "#9c179e"
             ],
             [
              0.4444444444444444,
              "#bd3786"
             ],
             [
              0.5555555555555556,
              "#d8576b"
             ],
             [
              0.6666666666666666,
              "#ed7953"
             ],
             [
              0.7777777777777778,
              "#fb9f3a"
             ],
             [
              0.8888888888888888,
              "#fdca26"
             ],
             [
              1,
              "#f0f921"
             ]
            ],
            "type": "heatmap"
           }
          ],
          "heatmapgl": [
           {
            "colorbar": {
             "outlinewidth": 0,
             "ticks": ""
            },
            "colorscale": [
             [
              0,
              "#0d0887"
             ],
             [
              0.1111111111111111,
              "#46039f"
             ],
             [
              0.2222222222222222,
              "#7201a8"
             ],
             [
              0.3333333333333333,
              "#9c179e"
             ],
             [
              0.4444444444444444,
              "#bd3786"
             ],
             [
              0.5555555555555556,
              "#d8576b"
             ],
             [
              0.6666666666666666,
              "#ed7953"
             ],
             [
              0.7777777777777778,
              "#fb9f3a"
             ],
             [
              0.8888888888888888,
              "#fdca26"
             ],
             [
              1,
              "#f0f921"
             ]
            ],
            "type": "heatmapgl"
           }
          ],
          "histogram": [
           {
            "marker": {
             "colorbar": {
              "outlinewidth": 0,
              "ticks": ""
             }
            },
            "type": "histogram"
           }
          ],
          "histogram2d": [
           {
            "colorbar": {
             "outlinewidth": 0,
             "ticks": ""
            },
            "colorscale": [
             [
              0,
              "#0d0887"
             ],
             [
              0.1111111111111111,
              "#46039f"
             ],
             [
              0.2222222222222222,
              "#7201a8"
             ],
             [
              0.3333333333333333,
              "#9c179e"
             ],
             [
              0.4444444444444444,
              "#bd3786"
             ],
             [
              0.5555555555555556,
              "#d8576b"
             ],
             [
              0.6666666666666666,
              "#ed7953"
             ],
             [
              0.7777777777777778,
              "#fb9f3a"
             ],
             [
              0.8888888888888888,
              "#fdca26"
             ],
             [
              1,
              "#f0f921"
             ]
            ],
            "type": "histogram2d"
           }
          ],
          "histogram2dcontour": [
           {
            "colorbar": {
             "outlinewidth": 0,
             "ticks": ""
            },
            "colorscale": [
             [
              0,
              "#0d0887"
             ],
             [
              0.1111111111111111,
              "#46039f"
             ],
             [
              0.2222222222222222,
              "#7201a8"
             ],
             [
              0.3333333333333333,
              "#9c179e"
             ],
             [
              0.4444444444444444,
              "#bd3786"
             ],
             [
              0.5555555555555556,
              "#d8576b"
             ],
             [
              0.6666666666666666,
              "#ed7953"
             ],
             [
              0.7777777777777778,
              "#fb9f3a"
             ],
             [
              0.8888888888888888,
              "#fdca26"
             ],
             [
              1,
              "#f0f921"
             ]
            ],
            "type": "histogram2dcontour"
           }
          ],
          "mesh3d": [
           {
            "colorbar": {
             "outlinewidth": 0,
             "ticks": ""
            },
            "type": "mesh3d"
           }
          ],
          "parcoords": [
           {
            "line": {
             "colorbar": {
              "outlinewidth": 0,
              "ticks": ""
             }
            },
            "type": "parcoords"
           }
          ],
          "scatter": [
           {
            "marker": {
             "colorbar": {
              "outlinewidth": 0,
              "ticks": ""
             }
            },
            "type": "scatter"
           }
          ],
          "scatter3d": [
           {
            "line": {
             "colorbar": {
              "outlinewidth": 0,
              "ticks": ""
             }
            },
            "marker": {
             "colorbar": {
              "outlinewidth": 0,
              "ticks": ""
             }
            },
            "type": "scatter3d"
           }
          ],
          "scattercarpet": [
           {
            "marker": {
             "colorbar": {
              "outlinewidth": 0,
              "ticks": ""
             }
            },
            "type": "scattercarpet"
           }
          ],
          "scattergeo": [
           {
            "marker": {
             "colorbar": {
              "outlinewidth": 0,
              "ticks": ""
             }
            },
            "type": "scattergeo"
           }
          ],
          "scattergl": [
           {
            "marker": {
             "colorbar": {
              "outlinewidth": 0,
              "ticks": ""
             }
            },
            "type": "scattergl"
           }
          ],
          "scattermapbox": [
           {
            "marker": {
             "colorbar": {
              "outlinewidth": 0,
              "ticks": ""
             }
            },
            "type": "scattermapbox"
           }
          ],
          "scatterpolar": [
           {
            "marker": {
             "colorbar": {
              "outlinewidth": 0,
              "ticks": ""
             }
            },
            "type": "scatterpolar"
           }
          ],
          "scatterpolargl": [
           {
            "marker": {
             "colorbar": {
              "outlinewidth": 0,
              "ticks": ""
             }
            },
            "type": "scatterpolargl"
           }
          ],
          "scatterternary": [
           {
            "marker": {
             "colorbar": {
              "outlinewidth": 0,
              "ticks": ""
             }
            },
            "type": "scatterternary"
           }
          ],
          "surface": [
           {
            "colorbar": {
             "outlinewidth": 0,
             "ticks": ""
            },
            "colorscale": [
             [
              0,
              "#0d0887"
             ],
             [
              0.1111111111111111,
              "#46039f"
             ],
             [
              0.2222222222222222,
              "#7201a8"
             ],
             [
              0.3333333333333333,
              "#9c179e"
             ],
             [
              0.4444444444444444,
              "#bd3786"
             ],
             [
              0.5555555555555556,
              "#d8576b"
             ],
             [
              0.6666666666666666,
              "#ed7953"
             ],
             [
              0.7777777777777778,
              "#fb9f3a"
             ],
             [
              0.8888888888888888,
              "#fdca26"
             ],
             [
              1,
              "#f0f921"
             ]
            ],
            "type": "surface"
           }
          ],
          "table": [
           {
            "cells": {
             "fill": {
              "color": "#EBF0F8"
             },
             "line": {
              "color": "white"
             }
            },
            "header": {
             "fill": {
              "color": "#C8D4E3"
             },
             "line": {
              "color": "white"
             }
            },
            "type": "table"
           }
          ]
         },
         "layout": {
          "annotationdefaults": {
           "arrowcolor": "#2a3f5f",
           "arrowhead": 0,
           "arrowwidth": 1
          },
          "colorscale": {
           "diverging": [
            [
             0,
             "#8e0152"
            ],
            [
             0.1,
             "#c51b7d"
            ],
            [
             0.2,
             "#de77ae"
            ],
            [
             0.3,
             "#f1b6da"
            ],
            [
             0.4,
             "#fde0ef"
            ],
            [
             0.5,
             "#f7f7f7"
            ],
            [
             0.6,
             "#e6f5d0"
            ],
            [
             0.7,
             "#b8e186"
            ],
            [
             0.8,
             "#7fbc41"
            ],
            [
             0.9,
             "#4d9221"
            ],
            [
             1,
             "#276419"
            ]
           ],
           "sequential": [
            [
             0,
             "#0d0887"
            ],
            [
             0.1111111111111111,
             "#46039f"
            ],
            [
             0.2222222222222222,
             "#7201a8"
            ],
            [
             0.3333333333333333,
             "#9c179e"
            ],
            [
             0.4444444444444444,
             "#bd3786"
            ],
            [
             0.5555555555555556,
             "#d8576b"
            ],
            [
             0.6666666666666666,
             "#ed7953"
            ],
            [
             0.7777777777777778,
             "#fb9f3a"
            ],
            [
             0.8888888888888888,
             "#fdca26"
            ],
            [
             1,
             "#f0f921"
            ]
           ],
           "sequentialminus": [
            [
             0,
             "#0d0887"
            ],
            [
             0.1111111111111111,
             "#46039f"
            ],
            [
             0.2222222222222222,
             "#7201a8"
            ],
            [
             0.3333333333333333,
             "#9c179e"
            ],
            [
             0.4444444444444444,
             "#bd3786"
            ],
            [
             0.5555555555555556,
             "#d8576b"
            ],
            [
             0.6666666666666666,
             "#ed7953"
            ],
            [
             0.7777777777777778,
             "#fb9f3a"
            ],
            [
             0.8888888888888888,
             "#fdca26"
            ],
            [
             1,
             "#f0f921"
            ]
           ]
          },
          "colorway": [
           "#636efa",
           "#EF553B",
           "#00cc96",
           "#ab63fa",
           "#FFA15A",
           "#19d3f3",
           "#FF6692",
           "#B6E880",
           "#FF97FF",
           "#FECB52"
          ],
          "font": {
           "color": "#2a3f5f"
          },
          "geo": {
           "bgcolor": "white",
           "lakecolor": "white",
           "landcolor": "#E5ECF6",
           "showlakes": true,
           "showland": true,
           "subunitcolor": "white"
          },
          "hoverlabel": {
           "align": "left"
          },
          "hovermode": "closest",
          "mapbox": {
           "style": "light"
          },
          "paper_bgcolor": "white",
          "plot_bgcolor": "#E5ECF6",
          "polar": {
           "angularaxis": {
            "gridcolor": "white",
            "linecolor": "white",
            "ticks": ""
           },
           "bgcolor": "#E5ECF6",
           "radialaxis": {
            "gridcolor": "white",
            "linecolor": "white",
            "ticks": ""
           }
          },
          "scene": {
           "xaxis": {
            "backgroundcolor": "#E5ECF6",
            "gridcolor": "white",
            "gridwidth": 2,
            "linecolor": "white",
            "showbackground": true,
            "ticks": "",
            "zerolinecolor": "white"
           },
           "yaxis": {
            "backgroundcolor": "#E5ECF6",
            "gridcolor": "white",
            "gridwidth": 2,
            "linecolor": "white",
            "showbackground": true,
            "ticks": "",
            "zerolinecolor": "white"
           },
           "zaxis": {
            "backgroundcolor": "#E5ECF6",
            "gridcolor": "white",
            "gridwidth": 2,
            "linecolor": "white",
            "showbackground": true,
            "ticks": "",
            "zerolinecolor": "white"
           }
          },
          "shapedefaults": {
           "line": {
            "color": "#2a3f5f"
           }
          },
          "ternary": {
           "aaxis": {
            "gridcolor": "white",
            "linecolor": "white",
            "ticks": ""
           },
           "baxis": {
            "gridcolor": "white",
            "linecolor": "white",
            "ticks": ""
           },
           "bgcolor": "#E5ECF6",
           "caxis": {
            "gridcolor": "white",
            "linecolor": "white",
            "ticks": ""
           }
          },
          "title": {
           "x": 0.05
          },
          "xaxis": {
           "automargin": true,
           "gridcolor": "white",
           "linecolor": "white",
           "ticks": "",
           "zerolinecolor": "white",
           "zerolinewidth": 2
          },
          "yaxis": {
           "automargin": true,
           "gridcolor": "white",
           "linecolor": "white",
           "ticks": "",
           "zerolinecolor": "white",
           "zerolinewidth": 2
          }
         }
        },
        "xaxis": {
         "anchor": "y",
         "categoryarray": [
          "approved",
          "canceled",
          "created",
          "delivered",
          "invoiced",
          "processing",
          "shipped",
          "unavailable"
         ],
         "categoryorder": "array",
         "domain": [
          0,
          0.98
         ],
         "title": {
          "text": "order_status"
         }
        },
        "yaxis": {
         "anchor": "x",
         "domain": [
          0,
          1
         ],
         "title": {
          "text": "Total Count of Status"
         }
        }
       }
      },
      "text/html": [
       "<div>\n",
       "        \n",
       "        \n",
       "            <div id=\"5baf8958-c796-4dc7-9043-6b81397db4e5\" class=\"plotly-graph-div\" style=\"height:600px; width:100%;\"></div>\n",
       "            <script type=\"text/javascript\">\n",
       "                require([\"plotly\"], function(Plotly) {\n",
       "                    window.PLOTLYENV=window.PLOTLYENV || {};\n",
       "                    \n",
       "                if (document.getElementById(\"5baf8958-c796-4dc7-9043-6b81397db4e5\")) {\n",
       "                    Plotly.newPlot(\n",
       "                        '5baf8958-c796-4dc7-9043-6b81397db4e5',\n",
       "                        [{\"alignmentgroup\": \"True\", \"hoverlabel\": {\"namelength\": 0}, \"hovertemplate\": \"order_status=%{x}<br>Total Count of Status=%{y}\", \"legendgroup\": \"order_status=approved\", \"marker\": {\"color\": \"#636efa\"}, \"name\": \"order_status=approved\", \"offsetgroup\": \"order_status=approved\", \"orientation\": \"v\", \"showlegend\": true, \"textposition\": \"auto\", \"type\": \"bar\", \"x\": [\"approved\"], \"xaxis\": \"x\", \"y\": [2], \"yaxis\": \"y\"}, {\"alignmentgroup\": \"True\", \"hoverlabel\": {\"namelength\": 0}, \"hovertemplate\": \"order_status=%{x}<br>Total Count of Status=%{y}\", \"legendgroup\": \"order_status=canceled\", \"marker\": {\"color\": \"#EF553B\"}, \"name\": \"order_status=canceled\", \"offsetgroup\": \"order_status=canceled\", \"orientation\": \"v\", \"showlegend\": true, \"textposition\": \"auto\", \"type\": \"bar\", \"x\": [\"canceled\"], \"xaxis\": \"x\", \"y\": [625], \"yaxis\": \"y\"}, {\"alignmentgroup\": \"True\", \"hoverlabel\": {\"namelength\": 0}, \"hovertemplate\": \"order_status=%{x}<br>Total Count of Status=%{y}\", \"legendgroup\": \"order_status=created\", \"marker\": {\"color\": \"#00cc96\"}, \"name\": \"order_status=created\", \"offsetgroup\": \"order_status=created\", \"orientation\": \"v\", \"showlegend\": true, \"textposition\": \"auto\", \"type\": \"bar\", \"x\": [\"created\"], \"xaxis\": \"x\", \"y\": [5], \"yaxis\": \"y\"}, {\"alignmentgroup\": \"True\", \"hoverlabel\": {\"namelength\": 0}, \"hovertemplate\": \"order_status=%{x}<br>Total Count of Status=%{y}\", \"legendgroup\": \"order_status=delivered\", \"marker\": {\"color\": \"#ab63fa\"}, \"name\": \"order_status=delivered\", \"offsetgroup\": \"order_status=delivered\", \"orientation\": \"v\", \"showlegend\": true, \"textposition\": \"auto\", \"type\": \"bar\", \"x\": [\"delivered\"], \"xaxis\": \"x\", \"y\": [96478], \"yaxis\": \"y\"}, {\"alignmentgroup\": \"True\", \"hoverlabel\": {\"namelength\": 0}, \"hovertemplate\": \"order_status=%{x}<br>Total Count of Status=%{y}\", \"legendgroup\": \"order_status=invoiced\", \"marker\": {\"color\": \"#FFA15A\"}, \"name\": \"order_status=invoiced\", \"offsetgroup\": \"order_status=invoiced\", \"orientation\": \"v\", \"showlegend\": true, \"textposition\": \"auto\", \"type\": \"bar\", \"x\": [\"invoiced\"], \"xaxis\": \"x\", \"y\": [314], \"yaxis\": \"y\"}, {\"alignmentgroup\": \"True\", \"hoverlabel\": {\"namelength\": 0}, \"hovertemplate\": \"order_status=%{x}<br>Total Count of Status=%{y}\", \"legendgroup\": \"order_status=processing\", \"marker\": {\"color\": \"#19d3f3\"}, \"name\": \"order_status=processing\", \"offsetgroup\": \"order_status=processing\", \"orientation\": \"v\", \"showlegend\": true, \"textposition\": \"auto\", \"type\": \"bar\", \"x\": [\"processing\"], \"xaxis\": \"x\", \"y\": [301], \"yaxis\": \"y\"}, {\"alignmentgroup\": \"True\", \"hoverlabel\": {\"namelength\": 0}, \"hovertemplate\": \"order_status=%{x}<br>Total Count of Status=%{y}\", \"legendgroup\": \"order_status=shipped\", \"marker\": {\"color\": \"#FF6692\"}, \"name\": \"order_status=shipped\", \"offsetgroup\": \"order_status=shipped\", \"orientation\": \"v\", \"showlegend\": true, \"textposition\": \"auto\", \"type\": \"bar\", \"x\": [\"shipped\"], \"xaxis\": \"x\", \"y\": [1107], \"yaxis\": \"y\"}, {\"alignmentgroup\": \"True\", \"hoverlabel\": {\"namelength\": 0}, \"hovertemplate\": \"order_status=%{x}<br>Total Count of Status=%{y}\", \"legendgroup\": \"order_status=unavailable\", \"marker\": {\"color\": \"#B6E880\"}, \"name\": \"order_status=unavailable\", \"offsetgroup\": \"order_status=unavailable\", \"orientation\": \"v\", \"showlegend\": true, \"textposition\": \"auto\", \"type\": \"bar\", \"x\": [\"unavailable\"], \"xaxis\": \"x\", \"y\": [609], \"yaxis\": \"y\"}],\n",
       "                        {\"barmode\": \"relative\", \"height\": 600, \"legend\": {\"tracegroupgap\": 0}, \"margin\": {\"t\": 60}, \"template\": {\"data\": {\"bar\": [{\"error_x\": {\"color\": \"#2a3f5f\"}, \"error_y\": {\"color\": \"#2a3f5f\"}, \"marker\": {\"line\": {\"color\": \"#E5ECF6\", \"width\": 0.5}}, \"type\": \"bar\"}], \"barpolar\": [{\"marker\": {\"line\": {\"color\": \"#E5ECF6\", \"width\": 0.5}}, \"type\": \"barpolar\"}], \"carpet\": [{\"aaxis\": {\"endlinecolor\": \"#2a3f5f\", \"gridcolor\": \"white\", \"linecolor\": \"white\", \"minorgridcolor\": \"white\", \"startlinecolor\": \"#2a3f5f\"}, \"baxis\": {\"endlinecolor\": \"#2a3f5f\", \"gridcolor\": \"white\", \"linecolor\": \"white\", \"minorgridcolor\": \"white\", \"startlinecolor\": \"#2a3f5f\"}, \"type\": \"carpet\"}], \"choropleth\": [{\"colorbar\": {\"outlinewidth\": 0, \"ticks\": \"\"}, \"type\": \"choropleth\"}], \"contour\": [{\"colorbar\": {\"outlinewidth\": 0, \"ticks\": \"\"}, \"colorscale\": [[0.0, \"#0d0887\"], [0.1111111111111111, \"#46039f\"], [0.2222222222222222, \"#7201a8\"], [0.3333333333333333, \"#9c179e\"], [0.4444444444444444, \"#bd3786\"], [0.5555555555555556, \"#d8576b\"], [0.6666666666666666, \"#ed7953\"], [0.7777777777777778, \"#fb9f3a\"], [0.8888888888888888, \"#fdca26\"], [1.0, \"#f0f921\"]], \"type\": \"contour\"}], \"contourcarpet\": [{\"colorbar\": {\"outlinewidth\": 0, \"ticks\": \"\"}, \"type\": \"contourcarpet\"}], \"heatmap\": [{\"colorbar\": {\"outlinewidth\": 0, \"ticks\": \"\"}, \"colorscale\": [[0.0, \"#0d0887\"], [0.1111111111111111, \"#46039f\"], [0.2222222222222222, \"#7201a8\"], [0.3333333333333333, \"#9c179e\"], [0.4444444444444444, \"#bd3786\"], [0.5555555555555556, \"#d8576b\"], [0.6666666666666666, \"#ed7953\"], [0.7777777777777778, \"#fb9f3a\"], [0.8888888888888888, \"#fdca26\"], [1.0, \"#f0f921\"]], \"type\": \"heatmap\"}], \"heatmapgl\": [{\"colorbar\": {\"outlinewidth\": 0, \"ticks\": \"\"}, \"colorscale\": [[0.0, \"#0d0887\"], [0.1111111111111111, \"#46039f\"], [0.2222222222222222, \"#7201a8\"], [0.3333333333333333, \"#9c179e\"], [0.4444444444444444, \"#bd3786\"], [0.5555555555555556, \"#d8576b\"], [0.6666666666666666, \"#ed7953\"], [0.7777777777777778, \"#fb9f3a\"], [0.8888888888888888, \"#fdca26\"], [1.0, \"#f0f921\"]], \"type\": \"heatmapgl\"}], \"histogram\": [{\"marker\": {\"colorbar\": {\"outlinewidth\": 0, \"ticks\": \"\"}}, \"type\": \"histogram\"}], \"histogram2d\": [{\"colorbar\": {\"outlinewidth\": 0, \"ticks\": \"\"}, \"colorscale\": [[0.0, \"#0d0887\"], [0.1111111111111111, \"#46039f\"], [0.2222222222222222, \"#7201a8\"], [0.3333333333333333, \"#9c179e\"], [0.4444444444444444, \"#bd3786\"], [0.5555555555555556, \"#d8576b\"], [0.6666666666666666, \"#ed7953\"], [0.7777777777777778, \"#fb9f3a\"], [0.8888888888888888, \"#fdca26\"], [1.0, \"#f0f921\"]], \"type\": \"histogram2d\"}], \"histogram2dcontour\": [{\"colorbar\": {\"outlinewidth\": 0, \"ticks\": \"\"}, \"colorscale\": [[0.0, \"#0d0887\"], [0.1111111111111111, \"#46039f\"], [0.2222222222222222, \"#7201a8\"], [0.3333333333333333, \"#9c179e\"], [0.4444444444444444, \"#bd3786\"], [0.5555555555555556, \"#d8576b\"], [0.6666666666666666, \"#ed7953\"], [0.7777777777777778, \"#fb9f3a\"], [0.8888888888888888, \"#fdca26\"], [1.0, \"#f0f921\"]], \"type\": \"histogram2dcontour\"}], \"mesh3d\": [{\"colorbar\": {\"outlinewidth\": 0, \"ticks\": \"\"}, \"type\": \"mesh3d\"}], \"parcoords\": [{\"line\": {\"colorbar\": {\"outlinewidth\": 0, \"ticks\": \"\"}}, \"type\": \"parcoords\"}], \"scatter\": [{\"marker\": {\"colorbar\": {\"outlinewidth\": 0, \"ticks\": \"\"}}, \"type\": \"scatter\"}], \"scatter3d\": [{\"line\": {\"colorbar\": {\"outlinewidth\": 0, \"ticks\": \"\"}}, \"marker\": {\"colorbar\": {\"outlinewidth\": 0, \"ticks\": \"\"}}, \"type\": \"scatter3d\"}], \"scattercarpet\": [{\"marker\": {\"colorbar\": {\"outlinewidth\": 0, \"ticks\": \"\"}}, \"type\": \"scattercarpet\"}], \"scattergeo\": [{\"marker\": {\"colorbar\": {\"outlinewidth\": 0, \"ticks\": \"\"}}, \"type\": \"scattergeo\"}], \"scattergl\": [{\"marker\": {\"colorbar\": {\"outlinewidth\": 0, \"ticks\": \"\"}}, \"type\": \"scattergl\"}], \"scattermapbox\": [{\"marker\": {\"colorbar\": {\"outlinewidth\": 0, \"ticks\": \"\"}}, \"type\": \"scattermapbox\"}], \"scatterpolar\": [{\"marker\": {\"colorbar\": {\"outlinewidth\": 0, \"ticks\": \"\"}}, \"type\": \"scatterpolar\"}], \"scatterpolargl\": [{\"marker\": {\"colorbar\": {\"outlinewidth\": 0, \"ticks\": \"\"}}, \"type\": \"scatterpolargl\"}], \"scatterternary\": [{\"marker\": {\"colorbar\": {\"outlinewidth\": 0, \"ticks\": \"\"}}, \"type\": \"scatterternary\"}], \"surface\": [{\"colorbar\": {\"outlinewidth\": 0, \"ticks\": \"\"}, \"colorscale\": [[0.0, \"#0d0887\"], [0.1111111111111111, \"#46039f\"], [0.2222222222222222, \"#7201a8\"], [0.3333333333333333, \"#9c179e\"], [0.4444444444444444, \"#bd3786\"], [0.5555555555555556, \"#d8576b\"], [0.6666666666666666, \"#ed7953\"], [0.7777777777777778, \"#fb9f3a\"], [0.8888888888888888, \"#fdca26\"], [1.0, \"#f0f921\"]], \"type\": \"surface\"}], \"table\": [{\"cells\": {\"fill\": {\"color\": \"#EBF0F8\"}, \"line\": {\"color\": \"white\"}}, \"header\": {\"fill\": {\"color\": \"#C8D4E3\"}, \"line\": {\"color\": \"white\"}}, \"type\": \"table\"}]}, \"layout\": {\"annotationdefaults\": {\"arrowcolor\": \"#2a3f5f\", \"arrowhead\": 0, \"arrowwidth\": 1}, \"colorscale\": {\"diverging\": [[0, \"#8e0152\"], [0.1, \"#c51b7d\"], [0.2, \"#de77ae\"], [0.3, \"#f1b6da\"], [0.4, \"#fde0ef\"], [0.5, \"#f7f7f7\"], [0.6, \"#e6f5d0\"], [0.7, \"#b8e186\"], [0.8, \"#7fbc41\"], [0.9, \"#4d9221\"], [1, \"#276419\"]], \"sequential\": [[0.0, \"#0d0887\"], [0.1111111111111111, \"#46039f\"], [0.2222222222222222, \"#7201a8\"], [0.3333333333333333, \"#9c179e\"], [0.4444444444444444, \"#bd3786\"], [0.5555555555555556, \"#d8576b\"], [0.6666666666666666, \"#ed7953\"], [0.7777777777777778, \"#fb9f3a\"], [0.8888888888888888, \"#fdca26\"], [1.0, \"#f0f921\"]], \"sequentialminus\": [[0.0, \"#0d0887\"], [0.1111111111111111, \"#46039f\"], [0.2222222222222222, \"#7201a8\"], [0.3333333333333333, \"#9c179e\"], [0.4444444444444444, \"#bd3786\"], [0.5555555555555556, \"#d8576b\"], [0.6666666666666666, \"#ed7953\"], [0.7777777777777778, \"#fb9f3a\"], [0.8888888888888888, \"#fdca26\"], [1.0, \"#f0f921\"]]}, \"colorway\": [\"#636efa\", \"#EF553B\", \"#00cc96\", \"#ab63fa\", \"#FFA15A\", \"#19d3f3\", \"#FF6692\", \"#B6E880\", \"#FF97FF\", \"#FECB52\"], \"font\": {\"color\": \"#2a3f5f\"}, \"geo\": {\"bgcolor\": \"white\", \"lakecolor\": \"white\", \"landcolor\": \"#E5ECF6\", \"showlakes\": true, \"showland\": true, \"subunitcolor\": \"white\"}, \"hoverlabel\": {\"align\": \"left\"}, \"hovermode\": \"closest\", \"mapbox\": {\"style\": \"light\"}, \"paper_bgcolor\": \"white\", \"plot_bgcolor\": \"#E5ECF6\", \"polar\": {\"angularaxis\": {\"gridcolor\": \"white\", \"linecolor\": \"white\", \"ticks\": \"\"}, \"bgcolor\": \"#E5ECF6\", \"radialaxis\": {\"gridcolor\": \"white\", \"linecolor\": \"white\", \"ticks\": \"\"}}, \"scene\": {\"xaxis\": {\"backgroundcolor\": \"#E5ECF6\", \"gridcolor\": \"white\", \"gridwidth\": 2, \"linecolor\": \"white\", \"showbackground\": true, \"ticks\": \"\", \"zerolinecolor\": \"white\"}, \"yaxis\": {\"backgroundcolor\": \"#E5ECF6\", \"gridcolor\": \"white\", \"gridwidth\": 2, \"linecolor\": \"white\", \"showbackground\": true, \"ticks\": \"\", \"zerolinecolor\": \"white\"}, \"zaxis\": {\"backgroundcolor\": \"#E5ECF6\", \"gridcolor\": \"white\", \"gridwidth\": 2, \"linecolor\": \"white\", \"showbackground\": true, \"ticks\": \"\", \"zerolinecolor\": \"white\"}}, \"shapedefaults\": {\"line\": {\"color\": \"#2a3f5f\"}}, \"ternary\": {\"aaxis\": {\"gridcolor\": \"white\", \"linecolor\": \"white\", \"ticks\": \"\"}, \"baxis\": {\"gridcolor\": \"white\", \"linecolor\": \"white\", \"ticks\": \"\"}, \"bgcolor\": \"#E5ECF6\", \"caxis\": {\"gridcolor\": \"white\", \"linecolor\": \"white\", \"ticks\": \"\"}}, \"title\": {\"x\": 0.05}, \"xaxis\": {\"automargin\": true, \"gridcolor\": \"white\", \"linecolor\": \"white\", \"ticks\": \"\", \"zerolinecolor\": \"white\", \"zerolinewidth\": 2}, \"yaxis\": {\"automargin\": true, \"gridcolor\": \"white\", \"linecolor\": \"white\", \"ticks\": \"\", \"zerolinecolor\": \"white\", \"zerolinewidth\": 2}}}, \"xaxis\": {\"anchor\": \"y\", \"categoryarray\": [\"approved\", \"canceled\", \"created\", \"delivered\", \"invoiced\", \"processing\", \"shipped\", \"unavailable\"], \"categoryorder\": \"array\", \"domain\": [0.0, 0.98], \"title\": {\"text\": \"order_status\"}}, \"yaxis\": {\"anchor\": \"x\", \"domain\": [0.0, 1.0], \"title\": {\"text\": \"Total Count of Status\"}}},\n",
       "                        {\"responsive\": true}\n",
       "                    ).then(function(){\n",
       "                            \n",
       "var gd = document.getElementById('5baf8958-c796-4dc7-9043-6b81397db4e5');\n",
       "var x = new MutationObserver(function (mutations, observer) {{\n",
       "        var display = window.getComputedStyle(gd).display;\n",
       "        if (!display || display === 'none') {{\n",
       "            console.log([gd, 'removed!']);\n",
       "            Plotly.purge(gd);\n",
       "            observer.disconnect();\n",
       "        }}\n",
       "}});\n",
       "\n",
       "// Listen for the removal of the full notebook cells\n",
       "var notebookContainer = gd.closest('#notebook-container');\n",
       "if (notebookContainer) {{\n",
       "    x.observe(notebookContainer, {childList: true});\n",
       "}}\n",
       "\n",
       "// Listen for the clearing of the current output cell\n",
       "var outputEl = gd.closest('.output');\n",
       "if (outputEl) {{\n",
       "    x.observe(outputEl, {childList: true});\n",
       "}}\n",
       "\n",
       "                        })\n",
       "                };\n",
       "                });\n",
       "            </script>\n",
       "        </div>"
      ]
     },
     "metadata": {},
     "output_type": "display_data"
    }
   ],
   "source": [
    "df = olist_orders.groupby([\"order_status\"]).size().reset_index(name='status_qt')\n",
    "\n",
    "fig = px.bar(df,\n",
    "             y='status_qt',\n",
    "             x=\"order_status\", color='order_status',\n",
    "             labels={'status_qt':'Total Count of Status'}, height=600)\n",
    "fig.show()"
   ]
  },
  {
   "cell_type": "markdown",
   "metadata": {},
   "source": [
    "By the time this dataset was created, the highest amount of orders went from delivered ones."
   ]
  },
  {
   "cell_type": "markdown",
   "metadata": {},
   "source": [
    "### Evaluation of e-commerce scenario/trend in Brazil"
   ]
  },
  {
   "cell_type": "markdown",
   "metadata": {},
   "source": [
    "#### Let's dive into the real evolution of e-commerce in terms of purchase orders. For this, we have to extract some info on the order_purchase_timestamp. We have to do the following:\n",
    "\n",
    "1. Transform timestamp columns;\n",
    "2. Extract time attributes from these datetime columns (year, month, day, day of week and hour);\n",
    "3. Evaluate the e-commerce scenario using this attributes."
   ]
  },
  {
   "cell_type": "code",
   "execution_count": 59,
   "metadata": {},
   "outputs": [],
   "source": [
    "# Changing the data type for date columns\n",
    "olist_orders['order_purchase_timestamp']=pd.to_datetime(olist_orders['order_purchase_timestamp'])\n",
    "olist_orders['order_estimated_delivery_date']=pd.to_datetime(olist_orders['order_estimated_delivery_date'])"
   ]
  },
  {
   "cell_type": "code",
   "execution_count": 60,
   "metadata": {},
   "outputs": [],
   "source": [
    "# Extracting attributes for purchase date - Year and Month\n",
    "olist_orders['order_purchase_year'] = olist_orders['order_purchase_timestamp'].apply(lambda x: x.year)\n",
    "olist_orders['order_purchase_month'] = olist_orders['order_purchase_timestamp'].apply(lambda x: x.month)\n",
    "olist_orders['order_purchase_month_name'] = olist_orders['order_purchase_timestamp'].apply(lambda x: x.strftime('%b'))\n",
    "olist_orders['order_purchase_year_month'] = olist_orders['order_purchase_timestamp'].apply(lambda x: x.strftime('%Y%m'))\n",
    "olist_orders['order_purchase_date'] = olist_orders['order_purchase_timestamp'].apply(lambda x: x.strftime('%Y%m%d'))"
   ]
  },
  {
   "cell_type": "code",
   "execution_count": 61,
   "metadata": {},
   "outputs": [],
   "source": [
    "# Extracting attributes for purchase date - Day and Day of Week\n",
    "olist_orders['order_purchase_day'] = olist_orders['order_purchase_timestamp'].apply(lambda x: x.day)\n",
    "olist_orders['order_purchase_dayofweek'] = olist_orders['order_purchase_timestamp'].apply(lambda x: x.dayofweek)\n",
    "olist_orders['order_purchase_dayofweek_name'] = olist_orders['order_purchase_timestamp'].apply(lambda x: x.strftime('%a'))"
   ]
  },
  {
   "cell_type": "code",
   "execution_count": 62,
   "metadata": {},
   "outputs": [],
   "source": [
    "# Extracting attributes for purchase date - Hour and Time of the Day\n",
    "olist_orders['order_purchase_hour'] = olist_orders['order_purchase_timestamp'].apply(lambda x: x.hour)\n",
    "hours_bins = [-0.1, 6, 12, 18, 23]\n",
    "hours_labels = ['Dawn', 'Morning', 'Afternoon', 'Night']\n",
    "olist_orders['order_purchase_time_day'] = pd.cut(olist_orders['order_purchase_hour'], hours_bins, labels = hours_labels)"
   ]
  },
  {
   "cell_type": "code",
   "execution_count": 63,
   "metadata": {},
   "outputs": [
    {
     "data": {
      "text/html": [
       "<div>\n",
       "<style scoped>\n",
       "    .dataframe tbody tr th:only-of-type {\n",
       "        vertical-align: middle;\n",
       "    }\n",
       "\n",
       "    .dataframe tbody tr th {\n",
       "        vertical-align: top;\n",
       "    }\n",
       "\n",
       "    .dataframe thead th {\n",
       "        text-align: right;\n",
       "    }\n",
       "</style>\n",
       "<table border=\"1\" class=\"dataframe\">\n",
       "  <thead>\n",
       "    <tr style=\"text-align: right;\">\n",
       "      <th></th>\n",
       "      <th>order_id</th>\n",
       "      <th>customer_id</th>\n",
       "      <th>order_status</th>\n",
       "      <th>order_purchase_timestamp</th>\n",
       "      <th>order_estimated_delivery_date</th>\n",
       "      <th>order_purchase_year</th>\n",
       "      <th>order_purchase_month</th>\n",
       "      <th>order_purchase_month_name</th>\n",
       "      <th>order_purchase_year_month</th>\n",
       "      <th>order_purchase_date</th>\n",
       "      <th>order_purchase_day</th>\n",
       "      <th>order_purchase_dayofweek</th>\n",
       "      <th>order_purchase_dayofweek_name</th>\n",
       "      <th>order_purchase_hour</th>\n",
       "      <th>order_purchase_time_day</th>\n",
       "    </tr>\n",
       "  </thead>\n",
       "  <tbody>\n",
       "    <tr>\n",
       "      <th>0</th>\n",
       "      <td>e481f51cbdc54678b7cc49136f2d6af7</td>\n",
       "      <td>9ef432eb6251297304e76186b10a928d</td>\n",
       "      <td>delivered</td>\n",
       "      <td>2017-10-02 10:56:33</td>\n",
       "      <td>2017-10-18</td>\n",
       "      <td>2017</td>\n",
       "      <td>10</td>\n",
       "      <td>Oct</td>\n",
       "      <td>201710</td>\n",
       "      <td>20171002</td>\n",
       "      <td>2</td>\n",
       "      <td>0</td>\n",
       "      <td>Mon</td>\n",
       "      <td>10</td>\n",
       "      <td>Morning</td>\n",
       "    </tr>\n",
       "    <tr>\n",
       "      <th>1</th>\n",
       "      <td>53cdb2fc8bc7dce0b6741e2150273451</td>\n",
       "      <td>b0830fb4747a6c6d20dea0b8c802d7ef</td>\n",
       "      <td>delivered</td>\n",
       "      <td>2018-07-24 20:41:37</td>\n",
       "      <td>2018-08-13</td>\n",
       "      <td>2018</td>\n",
       "      <td>7</td>\n",
       "      <td>Jul</td>\n",
       "      <td>201807</td>\n",
       "      <td>20180724</td>\n",
       "      <td>24</td>\n",
       "      <td>1</td>\n",
       "      <td>Tue</td>\n",
       "      <td>20</td>\n",
       "      <td>Night</td>\n",
       "    </tr>\n",
       "    <tr>\n",
       "      <th>2</th>\n",
       "      <td>47770eb9100c2d0c44946d9cf07ec65d</td>\n",
       "      <td>41ce2a54c0b03bf3443c3d931a367089</td>\n",
       "      <td>delivered</td>\n",
       "      <td>2018-08-08 08:38:49</td>\n",
       "      <td>2018-09-04</td>\n",
       "      <td>2018</td>\n",
       "      <td>8</td>\n",
       "      <td>Aug</td>\n",
       "      <td>201808</td>\n",
       "      <td>20180808</td>\n",
       "      <td>8</td>\n",
       "      <td>2</td>\n",
       "      <td>Wed</td>\n",
       "      <td>8</td>\n",
       "      <td>Morning</td>\n",
       "    </tr>\n",
       "    <tr>\n",
       "      <th>3</th>\n",
       "      <td>949d5b44dbf5de918fe9c16f97b45f8a</td>\n",
       "      <td>f88197465ea7920adcdbec7375364d82</td>\n",
       "      <td>delivered</td>\n",
       "      <td>2017-11-18 19:28:06</td>\n",
       "      <td>2017-12-15</td>\n",
       "      <td>2017</td>\n",
       "      <td>11</td>\n",
       "      <td>Nov</td>\n",
       "      <td>201711</td>\n",
       "      <td>20171118</td>\n",
       "      <td>18</td>\n",
       "      <td>5</td>\n",
       "      <td>Sat</td>\n",
       "      <td>19</td>\n",
       "      <td>Night</td>\n",
       "    </tr>\n",
       "    <tr>\n",
       "      <th>4</th>\n",
       "      <td>ad21c59c0840e6cb83a9ceb5573f8159</td>\n",
       "      <td>8ab97904e6daea8866dbdbc4fb7aad2c</td>\n",
       "      <td>delivered</td>\n",
       "      <td>2018-02-13 21:18:39</td>\n",
       "      <td>2018-02-26</td>\n",
       "      <td>2018</td>\n",
       "      <td>2</td>\n",
       "      <td>Feb</td>\n",
       "      <td>201802</td>\n",
       "      <td>20180213</td>\n",
       "      <td>13</td>\n",
       "      <td>1</td>\n",
       "      <td>Tue</td>\n",
       "      <td>21</td>\n",
       "      <td>Night</td>\n",
       "    </tr>\n",
       "  </tbody>\n",
       "</table>\n",
       "</div>"
      ],
      "text/plain": [
       "                           order_id                       customer_id  \\\n",
       "0  e481f51cbdc54678b7cc49136f2d6af7  9ef432eb6251297304e76186b10a928d   \n",
       "1  53cdb2fc8bc7dce0b6741e2150273451  b0830fb4747a6c6d20dea0b8c802d7ef   \n",
       "2  47770eb9100c2d0c44946d9cf07ec65d  41ce2a54c0b03bf3443c3d931a367089   \n",
       "3  949d5b44dbf5de918fe9c16f97b45f8a  f88197465ea7920adcdbec7375364d82   \n",
       "4  ad21c59c0840e6cb83a9ceb5573f8159  8ab97904e6daea8866dbdbc4fb7aad2c   \n",
       "\n",
       "  order_status order_purchase_timestamp order_estimated_delivery_date  \\\n",
       "0    delivered      2017-10-02 10:56:33                    2017-10-18   \n",
       "1    delivered      2018-07-24 20:41:37                    2018-08-13   \n",
       "2    delivered      2018-08-08 08:38:49                    2018-09-04   \n",
       "3    delivered      2017-11-18 19:28:06                    2017-12-15   \n",
       "4    delivered      2018-02-13 21:18:39                    2018-02-26   \n",
       "\n",
       "   order_purchase_year  order_purchase_month order_purchase_month_name  \\\n",
       "0                 2017                    10                       Oct   \n",
       "1                 2018                     7                       Jul   \n",
       "2                 2018                     8                       Aug   \n",
       "3                 2017                    11                       Nov   \n",
       "4                 2018                     2                       Feb   \n",
       "\n",
       "  order_purchase_year_month order_purchase_date  order_purchase_day  \\\n",
       "0                    201710            20171002                   2   \n",
       "1                    201807            20180724                  24   \n",
       "2                    201808            20180808                   8   \n",
       "3                    201711            20171118                  18   \n",
       "4                    201802            20180213                  13   \n",
       "\n",
       "   order_purchase_dayofweek order_purchase_dayofweek_name  \\\n",
       "0                         0                           Mon   \n",
       "1                         1                           Tue   \n",
       "2                         2                           Wed   \n",
       "3                         5                           Sat   \n",
       "4                         1                           Tue   \n",
       "\n",
       "   order_purchase_hour order_purchase_time_day  \n",
       "0                   10                 Morning  \n",
       "1                   20                   Night  \n",
       "2                    8                 Morning  \n",
       "3                   19                   Night  \n",
       "4                   21                   Night  "
      ]
     },
     "execution_count": 63,
     "metadata": {},
     "output_type": "execute_result"
    }
   ],
   "source": [
    "# New DataFrame after transformations\n",
    "olist_orders.head()"
   ]
  },
  {
   "cell_type": "code",
   "execution_count": 64,
   "metadata": {},
   "outputs": [],
   "source": [
    "#defining visualizaition functions\n",
    "def format_spines(ax, right_border=True):\n",
    "    \n",
    "    ax.spines['bottom'].set_color('#666666')\n",
    "    ax.spines['left'].set_color('#666666')\n",
    "    ax.spines['top'].set_visible(False)\n",
    "    if right_border:\n",
    "        ax.spines['right'].set_color('#FFFFFF')\n",
    "    else:\n",
    "        ax.spines['right'].set_color('#FFFFFF')\n",
    "    ax.patch.set_facecolor('#FFFFFF')\n",
    "    \n",
    "\n",
    "def single_countplot(df, ax, x=None, y=None, order=True, hue=False, palette='plasma', width=0.75, sub_width=0.3,\n",
    "                     sub_size=12):\n",
    "    \"\"\"\n",
    "    Parâmetros\n",
    "    ----------\n",
    "    classifiers: conjunto de classificadores em forma de dicionário [dict]\n",
    "    X: array com os dados a serem utilizados no treinamento [np.array]\n",
    "    y: array com o vetor target do modelo [np.array]\n",
    "\n",
    "    Retorno\n",
    "    -------\n",
    "    None\n",
    "    \"\"\"\n",
    "\n",
    "    # Verificando plotagem por quebra de alguma variável categórica\n",
    "    ncount = len(df)\n",
    "    if x:\n",
    "        col = x\n",
    "    else:\n",
    "        col = y\n",
    "    if hue != False:\n",
    "        if order:\n",
    "            sns.countplot(x=x, y=y, data=df, palette=palette, ax=ax, order=df[col].value_counts().index, hue=hue)\n",
    "        else:\n",
    "            sns.countplot(x=x, y=y, data=df, palette=palette, ax=ax, hue=hue)\n",
    "    else:\n",
    "        if order:\n",
    "            sns.countplot(x=x, y=y, data=df, palette=palette, ax=ax, order=df[col].value_counts().index)\n",
    "        else:\n",
    "            sns.countplot(x=x, y=y, data=df, palette=palette, ax=ax)"
   ]
  },
  {
   "cell_type": "markdown",
   "metadata": {},
   "source": [
    "##### Let's plot three graphs using a GridSpec that will answer the following questions:\n",
    "\n",
    "1. Is there any growing trend on brazilian e-commerce?\n",
    "2. On what day of week brazilians customers tend to do online purchasing?\n",
    "3. What time brazilians customers tend do buy (Dawn, Morning, Afternoon or Night)?"
   ]
  },
  {
   "cell_type": "code",
   "execution_count": 65,
   "metadata": {},
   "outputs": [
    {
     "name": "stderr",
     "output_type": "stream",
     "text": [
      "/Users/archita/anaconda3/lib/python3.7/site-packages/matplotlib/figure.py:2144: UserWarning:\n",
      "\n",
      "This figure was using constrained_layout==True, but that is incompatible with subplots_adjust and or tight_layout: setting constrained_layout==False. \n",
      "\n"
     ]
    },
    {
     "data": {
      "image/png": "[encoded data removed]",
      "text/plain": [
       "<Figure size 936x720 with 3 Axes>"
      ]
     },
     "metadata": {
      "needs_background": "light"
     },
     "output_type": "display_data"
    }
   ],
   "source": [
    "\n",
    "fig = plt.figure(constrained_layout=True, figsize=(13, 10))\n",
    "\n",
    "# Axis definition\n",
    "gs = GridSpec(2, 2, figure=fig)\n",
    "ax1 = fig.add_subplot(gs[0, :])\n",
    "ax2 = fig.add_subplot(gs[1, 0])\n",
    "ax3 = fig.add_subplot(gs[1, 1])\n",
    "\n",
    "# Lineplot - Evolution of e-commerce orders along time \n",
    "sns.lineplot(data=olist_orders['order_purchase_year_month'].value_counts().sort_index(), ax=ax1, \n",
    "             color='lightcoral', linewidth=2)\n",
    "\n",
    "ax1.annotate(f'Highest orders \\nreceived', (13, 7500), xytext=(-75, -25), \n",
    "             textcoords='offset points', bbox=dict(boxstyle=\"round4\", fc=\"w\", pad=.8),\n",
    "             arrowprops=dict(arrowstyle='-|>', fc='w'), color='dimgrey', ha='center')\n",
    "ax1.annotate(f'Noise on data \\n(huge decrease)', (23, 0), xytext=(48, 25), \n",
    "             textcoords='offset points', bbox=dict(boxstyle=\"round4\", fc=\"w\", pad=.5),\n",
    "             arrowprops=dict(arrowstyle='-|>', fc='w'), color='dimgrey', ha='center')\n",
    "\n",
    "#format_spines(ax1, right_border=False)\n",
    "ax1.spines['top'].set_visible(False)\n",
    "ax1.spines['right'].set_visible(False)\n",
    "for tick in ax1.get_xticklabels():\n",
    "    tick.set_rotation(50)\n",
    "ax1.set_title('Evolution of Total Orders in Brazilian E-Commerce', size=14, color='dimgrey')\n",
    "\n",
    "\n",
    "# Barchart - Total of orders by day of week\n",
    "single_countplot(olist_orders, x='order_purchase_dayofweek', ax=ax2, order=False, palette='YlGnBu')\n",
    "weekday_label = ['Mon', 'Tue', 'Wed', 'Thu', 'Fri', 'Sat', 'Sun']\n",
    "ax2.set_xticklabels(weekday_label)\n",
    "ax2.set_title('Total Orders by Day of Week', size=14, color='dimgrey', pad=20)\n",
    "ax2.spines['top'].set_visible(False)\n",
    "ax2.spines['right'].set_visible(False)\n",
    "\n",
    "# Barchart - Total of orders by time of the day\n",
    "day_color_list = ['darkslateblue', 'deepskyblue', 'darkorange', 'purple']\n",
    "single_countplot(olist_orders, x='order_purchase_time_day', ax=ax3, order=False, palette=day_color_list)\n",
    "ax3.set_title('Total Orders by Time of the Day', size=14, color='dimgrey', pad=20)\n",
    "ax3.spines['top'].set_visible(False)\n",
    "ax3.spines['right'].set_visible(False)\n",
    "\n",
    "plt.tight_layout()\n",
    "plt.show()"
   ]
  },
  {
   "cell_type": "markdown",
   "metadata": {},
   "source": [
    "Looking at the charts above we can conclude: E-commerce on Brazil really has a growing trend along the time.\n",
    "\n",
    "1. We can see some seasonality patterns with peak at Nov 24 due to Black Friday and Sales are weak after Dec(end-year holidays), but in general customers are buying more than before.\n",
    "2. Monday's are most the prefered day for customers and they tend to buy more at afternoons.\n",
    "3. As we can see a sharp decrease between August 2018 and September 2018, that maybe because of noise in data. "
   ]
  },
  {
   "cell_type": "markdown",
   "metadata": {},
   "source": [
    "#### Let's see the frequency of orders during the hour over the day:"
   ]
  },
  {
   "cell_type": "code",
   "execution_count": 66,
   "metadata": {},
   "outputs": [],
   "source": [
    "day_hour=olist_orders.groupby(['order_purchase_dayofweek_name','order_purchase_hour']).agg({'order_id':'count'}).rename(columns={'order_id':'freq'}).reset_index()"
   ]
  },
  {
   "cell_type": "code",
   "execution_count": 67,
   "metadata": {},
   "outputs": [],
   "source": [
    "### Sorting it so that the plot order is correct.\n",
    "day_hour['order_purchase_dayofweek_name']=pd.Categorical(day_hour['order_purchase_dayofweek_name'],categories=['Sun','Mon','Tue','Wed','Thu','Fri','Sat'],ordered=True)"
   ]
  },
  {
   "cell_type": "code",
   "execution_count": 68,
   "metadata": {},
   "outputs": [
    {
     "data": {
      "text/html": [
       "<div>\n",
       "<style scoped>\n",
       "    .dataframe tbody tr th:only-of-type {\n",
       "        vertical-align: middle;\n",
       "    }\n",
       "\n",
       "    .dataframe tbody tr th {\n",
       "        vertical-align: top;\n",
       "    }\n",
       "\n",
       "    .dataframe thead th {\n",
       "        text-align: right;\n",
       "    }\n",
       "</style>\n",
       "<table border=\"1\" class=\"dataframe\">\n",
       "  <thead>\n",
       "    <tr style=\"text-align: right;\">\n",
       "      <th></th>\n",
       "      <th>order_purchase_dayofweek_name</th>\n",
       "      <th>order_purchase_hour</th>\n",
       "      <th>freq</th>\n",
       "    </tr>\n",
       "  </thead>\n",
       "  <tbody>\n",
       "    <tr>\n",
       "      <th>0</th>\n",
       "      <td>Fri</td>\n",
       "      <td>0</td>\n",
       "      <td>426</td>\n",
       "    </tr>\n",
       "    <tr>\n",
       "      <th>1</th>\n",
       "      <td>Fri</td>\n",
       "      <td>1</td>\n",
       "      <td>216</td>\n",
       "    </tr>\n",
       "    <tr>\n",
       "      <th>2</th>\n",
       "      <td>Fri</td>\n",
       "      <td>2</td>\n",
       "      <td>72</td>\n",
       "    </tr>\n",
       "    <tr>\n",
       "      <th>3</th>\n",
       "      <td>Fri</td>\n",
       "      <td>3</td>\n",
       "      <td>49</td>\n",
       "    </tr>\n",
       "    <tr>\n",
       "      <th>4</th>\n",
       "      <td>Fri</td>\n",
       "      <td>4</td>\n",
       "      <td>40</td>\n",
       "    </tr>\n",
       "  </tbody>\n",
       "</table>\n",
       "</div>"
      ],
      "text/plain": [
       "  order_purchase_dayofweek_name  order_purchase_hour  freq\n",
       "0                           Fri                    0   426\n",
       "1                           Fri                    1   216\n",
       "2                           Fri                    2    72\n",
       "3                           Fri                    3    49\n",
       "4                           Fri                    4    40"
      ]
     },
     "execution_count": 68,
     "metadata": {},
     "output_type": "execute_result"
    }
   ],
   "source": [
    "day_hour.head()"
   ]
  },
  {
   "cell_type": "code",
   "execution_count": 69,
   "metadata": {},
   "outputs": [],
   "source": [
    "day_hour=day_hour.pivot('order_purchase_dayofweek_name','order_purchase_hour','freq')"
   ]
  },
  {
   "cell_type": "code",
   "execution_count": 70,
   "metadata": {},
   "outputs": [
    {
     "data": {
      "text/plain": [
       "Text(0.5, 1.0, 'Heatmap of tranactions over the hour by day')"
      ]
     },
     "execution_count": 70,
     "metadata": {},
     "output_type": "execute_result"
    },
    {
     "data": {
      "image/png": "[encoded data removed]",
      "text/plain": [
       "<Figure size 1080x576 with 2 Axes>"
      ]
     },
     "metadata": {
      "needs_background": "light"
     },
     "output_type": "display_data"
    }
   ],
   "source": [
    "plt.figure(figsize=(15,8))\n",
    "ax=sns.heatmap(day_hour,annot=True,fmt=\"d\",cmap=\"OrRd\")\n",
    "ax.set_xlabel(\"Hour\")\n",
    "ax.set_ylabel(\"Day\")\n",
    "ax.set_title(\"Heatmap of tranactions over the hour by day\",size=10)"
   ]
  },
  {
   "cell_type": "markdown",
   "metadata": {},
   "source": [
    "Looking at the heatmap above, we can conclude few insights:\n",
    "\n",
    "1. As the day progresses,the number of orders placed increases .\n",
    "2. There is clearly a difference in the order frequency between weekdays and weekends .\n",
    "3. While during weekdays , the order frequency increases steadly after 9 AM , the order frequency picks up only after 15:00 hrs during sundays"
   ]
  },
  {
   "cell_type": "markdown",
   "metadata": {},
   "source": [
    "##### Now Let's compare 2017 and 2018 Year, we will just consider orders between January and August in both years to see the sharp decline in orders"
   ]
  },
  {
   "cell_type": "code",
   "execution_count": 71,
   "metadata": {},
   "outputs": [
    {
     "data": {
      "text/plain": [
       "Text(0, 0.5, 'Count')"
      ]
     },
     "execution_count": 71,
     "metadata": {},
     "output_type": "execute_result"
    },
    {
     "data": {
      "image/png": "[encoded data removed]",
      "text/plain": [
       "<Figure size 936x360 with 2 Axes>"
      ]
     },
     "metadata": {
      "needs_background": "light"
     },
     "output_type": "display_data"
    }
   ],
   "source": [
    "# Creating figure\n",
    "fig = plt.figure(constrained_layout=True, figsize=(13, 5))\n",
    "\n",
    "# Axis definition\n",
    "gs = GridSpec(1, 3, figure=fig)\n",
    "ax1 = fig.add_subplot(gs[0, 0])\n",
    "ax2 = fig.add_subplot(gs[0, 1:])\n",
    "\n",
    "# Annotation - Grown on e-commerce orders between 2017 and 2018\n",
    "olist_orders_compare = olist_orders.query('order_purchase_year in (2017, 2018) & order_purchase_month <= 8')\n",
    "year_orders = olist_orders_compare['order_purchase_year'].value_counts()\n",
    "growth = int(round(100 * (1 + year_orders[2017] / year_orders[2018]), 0))\n",
    "ax1.text(0.00, 0.73, f'{year_orders[2017]}', fontsize=40, color='plum', ha='center')\n",
    "ax1.text(0.00, 0.64, 'orders registered in 2017\\nbetween January and August', fontsize=10, ha='center')\n",
    "ax1.text(0.00, 0.40, f'{year_orders[2018]}', fontsize=60, color='magenta', ha='center')\n",
    "ax1.text(0.00, 0.31, 'orders registered in 2018\\nbetween January and August', fontsize=10, ha='center')\n",
    "signal = '+' if growth > 0 else '-'\n",
    "ax1.text(0.00, 0.20, f'{signal}{growth}%', fontsize=14, ha='center', color='white', style='italic', weight='bold',\n",
    "         bbox=dict(facecolor='navy', alpha=0.5, pad=10, boxstyle='round, pad=.7'))\n",
    "ax1.axis('off')\n",
    "\n",
    "\n",
    "# Bar chart - Comparison between monthly sales between 2017 and 2018\n",
    "olist_orders_compare = olist_orders.query('order_purchase_year in (2017, 2018) & order_purchase_month <= 8')\n",
    "month_label = ['January', 'February', 'March', 'April', 'May', 'June', 'July', 'August']\n",
    "single_countplot(olist_orders_compare, x='order_purchase_month', hue='order_purchase_year', ax=ax2, order=False,\n",
    "                 palette='PuRd_r')\n",
    "total = len(olist_orders['order_purchase_month'])\n",
    "for p in ax2.patches:\n",
    "    ax2.annotate('{:.2f}%'.format(100 * p.get_height()/total), (p.get_x() + p.get_width() / 2., p.get_height()),\n",
    "                ha = 'center', va = 'center', xytext = (0, 10), textcoords = 'offset points')\n",
    "ax2.set_title('Total Orders Comparison Between 2017 and 2018 (January to August)', size=12, color='dimgrey', pad=20)\n",
    "ax2.set_xticklabels(month_label)\n",
    "plt.legend(loc='lower right')\n",
    "plt.xlabel('Month')\n",
    "plt.ylabel('Count')"
   ]
  },
  {
   "cell_type": "markdown",
   "metadata": {},
   "source": [
    "### 2. Most Bought Product Category People Usually Order:"
   ]
  },
  {
   "cell_type": "markdown",
   "metadata": {},
   "source": [
    "There are 71 different categories with names in portuguese. The english names are avaliable in the translation csv file. We will update the product category name in english"
   ]
  },
  {
   "cell_type": "code",
   "execution_count": 72,
   "metadata": {},
   "outputs": [],
   "source": [
    "updated_product_df = pd.merge(olist_products, olist_product_translation, on='product_category_name')\n",
    "updated_product_df.rename(columns={'product_category_name_english': 'product_category'}, inplace=True)\n",
    "updated_product_df.drop('product_category_name', axis=1, inplace=True)"
   ]
  },
  {
   "cell_type": "code",
   "execution_count": 73,
   "metadata": {},
   "outputs": [
    {
     "data": {
      "image/png": "[encoded data removed]",
      "text/plain": [
       "<Figure size 864x1152 with 1 Axes>"
      ]
     },
     "metadata": {
      "needs_background": "light"
     },
     "output_type": "display_data"
    }
   ],
   "source": [
    "fig = plt.figure(figsize=(12, 16))\n",
    "ax = sns.countplot(y=updated_product_df['product_category'], palette='twilight_shifted',\n",
    "                   order = updated_product_df['product_category'].value_counts().index)\n",
    "total = len(updated_product_df['product_category'])\n",
    "for p in ax.patches:\n",
    "    x = (p.get_width() + 80)\n",
    "    y = (p.get_y() + p.get_height()/2) + 0.9\n",
    "    ax.annotate('{:.1f}%'.format(100 * p.get_width()/total), (x,y),\n",
    "                ha = 'center', va = 'center', xytext = (0, 10), textcoords = 'offset points')\n",
    "plt.title('Products Into Categories')\n",
    "plt.ylabel('Product Category')\n",
    "plt.xlabel('Count')\n",
    "\n",
    "plt.savefig('Products')"
   ]
  },
  {
   "cell_type": "markdown",
   "metadata": {},
   "source": [
    "## 3. Ecommerce by Region, State and City"
   ]
  },
  {
   "cell_type": "code",
   "execution_count": 74,
   "metadata": {},
   "outputs": [
    {
     "data": {
      "text/plain": [
       "Text(0, 0.5, 'Count')"
      ]
     },
     "execution_count": 74,
     "metadata": {},
     "output_type": "execute_result"
    },
    {
     "data": {
      "image/png": "[encoded data removed]",
      "text/plain": [
       "<Figure size 936x864 with 2 Axes>"
      ]
     },
     "metadata": {
      "needs_background": "light"
     },
     "output_type": "display_data"
    }
   ],
   "source": [
    "fig = plt.figure(constrained_layout=True, figsize=(13, 12))\n",
    "\n",
    "# Axis definition\n",
    "gs = GridSpec(2, 2, figure=fig)\n",
    "ax1 = fig.add_subplot(gs[0, :])\n",
    "ax2 = fig.add_subplot(gs[1, :])\n",
    "\n",
    "sns.countplot(x=olist_customer['customer_state'], ax=ax1, palette='coolwarm')\n",
    "total = len(olist_customer['customer_state'])\n",
    "for p in ax1.patches:\n",
    "    ax1.annotate('{:.2f}%'.format(100 * p.get_height()/total), (p.get_x() + p.get_width() / 2., p.get_height()),\n",
    "                ha = 'center', va = 'center', xytext = (0, 10), textcoords = 'offset points')\n",
    "ax1.set_title('Customers Into States', size=12, color='dimgrey', pad=10)\n",
    "ax1.set_xlabel('Customer State')\n",
    "ax1.set_ylabel('Count')\n",
    "\n",
    "sns.countplot(x=olist_sellers['seller_state'], ax=ax2, palette='RdPu_r')\n",
    "total = len(olist_sellers['seller_state'])\n",
    "for p in ax2.patches:\n",
    "    ax2.annotate('{:.2f}%'.format(100 * p.get_height()/total), (p.get_x() + p.get_width() / 2., p.get_height()),\n",
    "                ha = 'center', va = 'center', xytext = (0, 10), textcoords = 'offset points')\n",
    "ax2.set_title('Seller Into States', size=12, color='dimgrey', pad=10)\n",
    "ax2.set_xlabel('Seller State')\n",
    "ax2.set_ylabel('Count')"
   ]
  },
  {
   "cell_type": "markdown",
   "metadata": {},
   "source": [
    "## 4. Payment Type Analysis"
   ]
  },
  {
   "cell_type": "markdown",
   "metadata": {},
   "source": [
    "One of the datasets provided have informations about order's payment. To see how payments can take influence on e-commerce, we can build a mini-dashboard with main concepts: payments type and payments installments. The idea is to present enough information to clarify how e-commerce buyers usually prefer to pay orders."
   ]
  },
  {
   "cell_type": "code",
   "execution_count": 75,
   "metadata": {},
   "outputs": [
    {
     "data": {
      "text/html": [
       "<div>\n",
       "<style scoped>\n",
       "    .dataframe tbody tr th:only-of-type {\n",
       "        vertical-align: middle;\n",
       "    }\n",
       "\n",
       "    .dataframe tbody tr th {\n",
       "        vertical-align: top;\n",
       "    }\n",
       "\n",
       "    .dataframe thead th {\n",
       "        text-align: right;\n",
       "    }\n",
       "</style>\n",
       "<table border=\"1\" class=\"dataframe\">\n",
       "  <thead>\n",
       "    <tr style=\"text-align: right;\">\n",
       "      <th></th>\n",
       "      <th>order_id</th>\n",
       "      <th>payment_sequential</th>\n",
       "      <th>payment_type</th>\n",
       "      <th>payment_installments</th>\n",
       "      <th>payment_value</th>\n",
       "    </tr>\n",
       "  </thead>\n",
       "  <tbody>\n",
       "    <tr>\n",
       "      <th>0</th>\n",
       "      <td>b81ef226f3fe1789b1e8b2acac839d17</td>\n",
       "      <td>1</td>\n",
       "      <td>credit_card</td>\n",
       "      <td>8</td>\n",
       "      <td>99.33</td>\n",
       "    </tr>\n",
       "    <tr>\n",
       "      <th>1</th>\n",
       "      <td>a9810da82917af2d9aefd1278f1dcfa0</td>\n",
       "      <td>1</td>\n",
       "      <td>credit_card</td>\n",
       "      <td>1</td>\n",
       "      <td>24.39</td>\n",
       "    </tr>\n",
       "    <tr>\n",
       "      <th>2</th>\n",
       "      <td>25e8ea4e93396b6fa0d3dd708e76c1bd</td>\n",
       "      <td>1</td>\n",
       "      <td>credit_card</td>\n",
       "      <td>1</td>\n",
       "      <td>65.71</td>\n",
       "    </tr>\n",
       "    <tr>\n",
       "      <th>3</th>\n",
       "      <td>ba78997921bbcdc1373bb41e913ab953</td>\n",
       "      <td>1</td>\n",
       "      <td>credit_card</td>\n",
       "      <td>8</td>\n",
       "      <td>107.78</td>\n",
       "    </tr>\n",
       "    <tr>\n",
       "      <th>4</th>\n",
       "      <td>42fdf880ba16b47b59251dd489d4441a</td>\n",
       "      <td>1</td>\n",
       "      <td>credit_card</td>\n",
       "      <td>2</td>\n",
       "      <td>128.45</td>\n",
       "    </tr>\n",
       "  </tbody>\n",
       "</table>\n",
       "</div>"
      ],
      "text/plain": [
       "                           order_id  payment_sequential payment_type  \\\n",
       "0  b81ef226f3fe1789b1e8b2acac839d17                   1  credit_card   \n",
       "1  a9810da82917af2d9aefd1278f1dcfa0                   1  credit_card   \n",
       "2  25e8ea4e93396b6fa0d3dd708e76c1bd                   1  credit_card   \n",
       "3  ba78997921bbcdc1373bb41e913ab953                   1  credit_card   \n",
       "4  42fdf880ba16b47b59251dd489d4441a                   1  credit_card   \n",
       "\n",
       "   payment_installments  payment_value  \n",
       "0                     8          99.33  \n",
       "1                     1          24.39  \n",
       "2                     1          65.71  \n",
       "3                     8         107.78  \n",
       "4                     2         128.45  "
      ]
     },
     "execution_count": 75,
     "metadata": {},
     "output_type": "execute_result"
    }
   ],
   "source": [
    "olist_order_payments.head()"
   ]
  },
  {
   "cell_type": "code",
   "execution_count": 76,
   "metadata": {},
   "outputs": [
    {
     "data": {
      "image/png": "[encoded data removed]",
      "text/plain": [
       "<Figure size 1080x648 with 1 Axes>"
      ]
     },
     "metadata": {
      "needs_background": "light"
     },
     "output_type": "display_data"
    }
   ],
   "source": [
    "fig = plt.figure(figsize=(15, 9))\n",
    "ax = sns.countplot(x=olist_order_payments['payment_type'], palette='RdPu')\n",
    "total = len(olist_order_payments['payment_type'])\n",
    "for tick in ax.get_xticklabels():\n",
    "    tick.set_rotation(30)\n",
    "for p in ax.patches:\n",
    "    ax.annotate('{:.2f}%'.format(100 * p.get_height()/total), (p.get_x() + p.get_width() / 2., p.get_height()),\n",
    "                ha = 'center', va = 'center', xytext = (0, 10), textcoords = 'offset points')\n",
    "plt.title('Orders Into Payment Types', size=12, color='dimgrey', pad=10)\n",
    "plt.ylabel('Count')\n",
    "plt.xlabel('Payment Types')\n",
    "\n",
    "plt.savefig('Products')\n"
   ]
  },
  {
   "cell_type": "markdown",
   "metadata": {},
   "source": [
    "A large number of online buyers use credit card as their prefered mode of payment followed by boleto.\n",
    "According to wiki ,boleto is a a payment method in Brazil regulated by FEBRABAN, short for Brazilian Federation of Banks.A boleto can be paid at ATMs, branch facilities and internet banking of any Bank, Post Office, Lottery Agent and some supermarkets until its due date. After the due date it can only be paid at the issuer bank facilities."
   ]
  },
  {
   "cell_type": "code",
   "execution_count": 77,
   "metadata": {
    "scrolled": true
   },
   "outputs": [
    {
     "data": {
      "image/png": "[encoded data removed]",
      "text/plain": [
       "<Figure size 1080x648 with 1 Axes>"
      ]
     },
     "metadata": {
      "needs_background": "light"
     },
     "output_type": "display_data"
    }
   ],
   "source": [
    "fig = plt.figure(figsize=(15, 9))\n",
    "ax = sns.countplot(x=olist_order_payments['payment_installments'], palette='rocket_r')\n",
    "total = len(olist_order_payments['payment_installments'])\n",
    "for p in ax.patches:\n",
    "    ax.annotate('{:.2f}%'.format(100 * p.get_height()/total), (p.get_x() + p.get_width() / 2., p.get_height()),\n",
    "                ha = 'center', va = 'center', xytext = (0, 10), textcoords = 'offset points')\n",
    "plt.title('Payments Into Installments Count', size=12, color='dimgrey', pad=10)\n",
    "plt.ylabel('Count')\n",
    "plt.xlabel('Number Of Installments')\n",
    "\n",
    "plt.savefig('Products')"
   ]
  },
  {
   "cell_type": "code",
   "execution_count": 78,
   "metadata": {},
   "outputs": [
    {
     "name": "stdout",
     "output_type": "stream",
     "text": [
      "Average value of transaction on credit card : BRL 163\n",
      "Average value of transaction on boleto : BRL 145\n",
      "Average value of transaction on voucher: BRL 66\n",
      "Average value of transaction on debit card: BRL 143\n"
     ]
    }
   ],
   "source": [
    "print(\"Average value of transaction on credit card : BRL {:,.0f}\".format(np.mean(olist_order_payments[olist_order_payments.payment_type=='credit_card']['payment_value'])))\n",
    "print(\"Average value of transaction on boleto : BRL {:,.0f}\".format(np.mean(olist_order_payments[olist_order_payments.payment_type=='boleto']['payment_value'])))\n",
    "print(\"Average value of transaction on voucher: BRL {:,.0f}\".format(np.mean(olist_order_payments[olist_order_payments.payment_type=='voucher']['payment_value'])))\n",
    "print(\"Average value of transaction on debit card: BRL {:,.0f}\".format(np.mean(olist_order_payments[olist_order_payments.payment_type=='debit_card']['payment_value'])))"
   ]
  },
  {
   "cell_type": "markdown",
   "metadata": {},
   "source": [
    "For each of the transaction types , the value at the quantiles is printed out for better interpretation . Distribution and box plot is also tried out for visualisation purpose."
   ]
  },
  {
   "cell_type": "code",
   "execution_count": 79,
   "metadata": {},
   "outputs": [
    {
     "name": "stdout",
     "output_type": "stream",
     "text": [
      "Credit Card quantiles\n",
      "0.01      13.4100\n",
      "0.25      62.2100\n",
      "0.50     106.8700\n",
      "0.75     181.2100\n",
      "0.99    1097.3334\n",
      "Name: payment_value, dtype: float64\n",
      "\n",
      "Boleto quantiles\n",
      "0.01     21.7500\n",
      "0.25     55.5225\n",
      "0.50     93.8900\n",
      "0.75    160.7625\n",
      "0.99    946.9896\n",
      "Name: payment_value, dtype: float64\n",
      "\n",
      "Voucher quantiles\n",
      "0.01      0.7170\n",
      "0.25     18.0350\n",
      "0.50     39.2800\n",
      "0.75     80.0000\n",
      "0.99    454.5824\n",
      "Name: payment_value, dtype: float64\n",
      "\n",
      "Debit Card quantiles\n",
      "0.01     20.7412\n",
      "0.25     51.1000\n",
      "0.50     89.3000\n",
      "0.75    154.3200\n",
      "0.99    941.1528\n",
      "Name: payment_value, dtype: float64\n"
     ]
    }
   ],
   "source": [
    "print(\"Credit Card quantiles\")\n",
    "print(olist_order_payments[olist_order_payments.payment_type=='credit_card']['payment_value'].quantile([.01,.25,.5,.75,.99]))\n",
    "print(\"\")\n",
    "print(\"Boleto quantiles\")\n",
    "print(olist_order_payments[olist_order_payments.payment_type=='boleto']['payment_value'].quantile([.01,.25,.5,.75,.99]))\n",
    "print(\"\")\n",
    "print(\"Voucher quantiles\")\n",
    "print(olist_order_payments[olist_order_payments.payment_type=='voucher']['payment_value'].quantile([.01,.25,.5,.75,.99]))\n",
    "print(\"\")\n",
    "print(\"Debit Card quantiles\")\n",
    "print(olist_order_payments[olist_order_payments.payment_type=='debit_card']['payment_value'].quantile([.01,.25,.5,.75,.99]))"
   ]
  },
  {
   "cell_type": "markdown",
   "metadata": {},
   "source": [
    "For transaction of higher value , people have used credit mode of payment followed by bolero and then debit card . The preference of using vouchers for transaction is on the lower side .Lets check the distribution of the transactions."
   ]
  },
  {
   "cell_type": "code",
   "execution_count": 80,
   "metadata": {},
   "outputs": [
    {
     "data": {
      "text/plain": [
       "[Text(0, 0, 'credit_card'),\n",
       " Text(0, 0, 'boleto'),\n",
       " Text(0, 0, 'voucher'),\n",
       " Text(0, 0, 'debit_card'),\n",
       " Text(0, 0, 'not_defined')]"
      ]
     },
     "execution_count": 80,
     "metadata": {},
     "output_type": "execute_result"
    },
    {
     "data": {
      "image/png": "[encoded data removed]",
      "text/plain": [
       "<Figure size 720x576 with 1 Axes>"
      ]
     },
     "metadata": {
      "needs_background": "light"
     },
     "output_type": "display_data"
    }
   ],
   "source": [
    "plt.figure(figsize=(10,8))\n",
    "ax=sns.boxplot(x=olist_order_payments.payment_type,y=olist_order_payments.payment_value,palette=sns.color_palette(palette=\"viridis_r\"))\n",
    "ax.set_title(\"Boxplot for different payment type\")\n",
    "ax.set_xlabel(\"Transaction type\")\n",
    "ax.set_ylabel(\"Transaction Value\")\n",
    "ax.set_xticklabels(ax.get_xticklabels(),rotation=90)"
   ]
  },
  {
   "cell_type": "markdown",
   "metadata": {},
   "source": [
    "Looking at the above box plot we can understand the following:\n",
    "\n",
    "We can see that there are extreme outliers in this case. This means that for higher value of transactions ,people prefer to buy on credit and pay later. Debit card and vouchers are not used much and there are two modes dominating the distribution plot ."
   ]
  },
  {
   "cell_type": "markdown",
   "metadata": {},
   "source": [
    "Summary :\n",
    "The following are some of the key points noted from the Olist E commerce analysis.\n",
    "\n",
    "1. Maximum order amount is BRL 13440 and Minumum order amount is BRL 2.\n",
    "2. Bed Bath table,health beauty,sports are some categories that are bought most often by the customers.\n",
    "3. The frequency of the orders has been higher on Mon,Tue whereas the frequency of orders is low during Saturday and sundays.\n",
    "4.  While during weekdays , the order frequency increases steadly after 9 AM , the order frequency picks up only after 15:00 hrs during sundays\n",
    "5. Credit card,boleto have been used for transactions of high value whereas people prefer using vouchers for low transaction values."
   ]
  },
  {
   "cell_type": "code",
   "execution_count": null,
   "metadata": {},
   "outputs": [],
   "source": []
  },
  {
   "cell_type": "code",
   "execution_count": null,
   "metadata": {},
   "outputs": [],
   "source": []
  },
  {
   "cell_type": "code",
   "execution_count": null,
   "metadata": {},
   "outputs": [],
   "source": []
  }
 ],
 "metadata": {
  "kernelspec": {
   "display_name": "Python 3",
   "language": "python",
   "name": "python3"
  },
  "language_info": {
   "codemirror_mode": {
    "name": "ipython",
    "version": 3
   },
   "file_extension": ".py",
   "mimetype": "text/x-python",
   "name": "python",
   "nbconvert_exporter": "python",
   "pygments_lexer": "ipython3",
   "version": "3.7.3"
  },
  "varInspector": {
   "cols": {
    "lenName": 16,
    "lenType": 16,
    "lenVar": 40
   },
   "kernels_config": {
    "python": {
     "delete_cmd_postfix": "",
     "delete_cmd_prefix": "del ",
     "library": "var_list.py",
     "varRefreshCmd": "print(var_dic_list())"
    },
    "r": {
     "delete_cmd_postfix": ") ",
     "delete_cmd_prefix": "rm(",
     "library": "var_list.r",
     "varRefreshCmd": "cat(var_dic_list()) "
    }
   },
   "types_to_exclude": [
    "module",
    "function",
    "builtin_function_or_method",
    "instance",
    "_Feature"
   ],
   "window_display": false
  }
 },
 "nbformat": 4,
 "nbformat_minor": 2
}
